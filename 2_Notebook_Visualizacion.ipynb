{
 "cells": [
  {
   "cell_type": "markdown",
   "id": "d114eb65",
   "metadata": {},
   "source": [
    "# Librerías de visualización e interactivas\n",
    "##  Matplotlib, Bokeh, HoloViews, HoloViz"
   ]
  },
  {
   "cell_type": "markdown",
   "id": "a8d5cf9e",
   "metadata": {},
   "source": [
    "# 1. Matplotlib\n",
    "https://matplotlib.org/\"\n",
    "\n",
    "<img src=\"https://matplotlib.org/_static/logo2_compressed.svg\" width=\"400px\" />\n",
    "\n",
    "Veamos unas cuantas recetas básicas y, paralelamente, algunos componentes básicos de un plot."
   ]
  },
  {
   "cell_type": "code",
   "execution_count": null,
   "id": "1d2752b7",
   "metadata": {},
   "outputs": [],
   "source": [
    "%matplotlib inline  \n",
    "import matplotlib.pyplot as plt\n",
    "\n",
    "import numpy as np\n",
    "\n",
    "x = np.arange(10)\n",
    "y1 = np.random.random(10)\n",
    "y2 = np.random.randint(-1,1,10)\n",
    "\n",
    "fig, ax = plt.subplots()        # Figura vs Axes\n",
    "\n",
    "ax.plot(x, y1, label=\"Random 0..1\")\n",
    "ax.plot(x, y2, label=\"Random -1..1\")\n",
    "\n",
    "ax.set_xlabel(\"X-axes\")         #opcional\n",
    "ax.set_ylabel(\"Y-axes\")         #opcional\n",
    "ax.legend()                     #opcional\n",
    "\n",
    "plt.show()                      #No es necesario en ejecucions sobre terminal/Pycharm/VS \n",
    "\n",
    "fig.savefig(\"file.png\",dpi=200) #opcional"
   ]
  },
  {
   "cell_type": "markdown",
   "id": "b5c47e9f",
   "metadata": {},
   "source": [
    "## Multiples plots in a figure\n",
    "\n",
    "Subplots:\n",
    "https://matplotlib.org/3.1.0/gallery/subplots_axes_and_figures/subplots_demo.html"
   ]
  },
  {
   "cell_type": "code",
   "execution_count": null,
   "id": "4ab3ddf3",
   "metadata": {},
   "outputs": [],
   "source": [
    "x, y = 50*np.random.rand(2, 500)           #Note the array.shape to unpack the array.dim\n",
    "x1, y1 = np.random.randint(-1,1,200).reshape(2,100)"
   ]
  },
  {
   "cell_type": "code",
   "execution_count": null,
   "id": "668975c2",
   "metadata": {},
   "outputs": [],
   "source": [
    "# Se pueden definir subplots desde la propia declaración de la figura\n",
    "fig, (ax1, ax2) = plt.subplots(2)     #vertical\n",
    "#fig, (ax1, ax2) = plt.subplots(1, 2) #horitontal\n",
    "fig.suptitle('Vertically stacked subplots')\n",
    "ax1.scatter(x, y)\n",
    "ax2.scatter(x, -y)"
   ]
  },
  {
   "cell_type": "code",
   "execution_count": null,
   "id": "940da3ce",
   "metadata": {},
   "outputs": [],
   "source": [
    "# O se pueden definir subplots dinámicamente\n",
    "\n",
    "fig = plt.figure(figsize=(10,5))\n",
    "\n",
    "ax1 = fig.add_subplot(121) # de 1 fila x 2 columnas: 1 el primero\n",
    "ax1.scatter(x, y) \n",
    "\n",
    "ax2 = fig.add_subplot(122) # de 1 fila x 2 columnas: 2 el segundo\n",
    "ax2.plot(x1, y1, color=\"blue\", label=\"Random 0..1\")\n",
    "\n",
    "ax.legend()\n",
    "plt.show()"
   ]
  },
  {
   "cell_type": "markdown",
   "id": "dba80499",
   "metadata": {},
   "source": [
    "## Tipos de charts \n",
    "breve listado"
   ]
  },
  {
   "cell_type": "markdown",
   "id": "4a8124bd",
   "metadata": {},
   "source": [
    "### Line charts"
   ]
  },
  {
   "cell_type": "code",
   "execution_count": null,
   "id": "078a72c5",
   "metadata": {},
   "outputs": [],
   "source": [
    "import matplotlib.pyplot as plt\n",
    "import numpy as np\n",
    "x = np.arange(-2*np.pi,2*np.pi,0.01)\n",
    "y = np.cos(x)\n",
    "plt.plot(x,y) #Fijaros que no es necesario invocar a la figura para que un plot este dentro de una figura\n",
    "plt.show()"
   ]
  },
  {
   "cell_type": "code",
   "execution_count": null,
   "id": "8def5c02",
   "metadata": {},
   "outputs": [],
   "source": [
    "import matplotlib.pyplot as plt\n",
    "import numpy as np\n",
    "\n",
    "x = np.arange(-2*np.pi,2*np.pi,0.01)\n",
    "y  = np.cos(x)\n",
    "y2 = np.sin(x)\n",
    "y3 = np.sin(2*x)/x\n",
    "y4 = y3/x\n",
    "\n",
    "plt.plot(x,y3,color='red')\n",
    "\n",
    "#Linesstyle: https://matplotlib.org/2.0.2/api/lines_api.html\n",
    "plt.plot(x,y3+1,color='#ffa3cc',linestyle='--')\n",
    "\n",
    "#LineStyle + Color: https://matplotlib.org/stable/tutorials/colors/colors.html\n",
    "plt.plot(x,y,'k--',linewidth=3) # k stands for black\n",
    "plt.plot(x,y2,'m-.') # m stands for magenta\n",
    "\n",
    "plt.show()"
   ]
  },
  {
   "cell_type": "markdown",
   "id": "5464a5bb",
   "metadata": {},
   "source": [
    "### Histograms"
   ]
  },
  {
   "cell_type": "code",
   "execution_count": null,
   "id": "69e4dcc1",
   "metadata": {},
   "outputs": [],
   "source": [
    "import matplotlib.pyplot as plt\n",
    "import numpy as np\n",
    "items = np.random.normal(1,10,300)\n",
    "n,bins,patches = plt.hist(items,bins=20)"
   ]
  },
  {
   "cell_type": "markdown",
   "id": "ff0fbf7b",
   "metadata": {},
   "source": [
    "### Bars"
   ]
  },
  {
   "cell_type": "code",
   "execution_count": null,
   "id": "4d785b4d",
   "metadata": {},
   "outputs": [],
   "source": [
    "import matplotlib.pyplot as plt\n",
    "import numpy as np\n",
    "\n",
    "index = np.arange(5)\n",
    "v1,v2,v3 = np.random.randint(3,10,15).reshape(3,5)\n",
    "bw = 0.3\n",
    "\n",
    "plt.bar(index,v1,bw,color='b')\n",
    "plt.bar(index+bw,v2,bw,color='g')\n",
    "plt.bar(index+2*bw,v3,bw,color='r')\n",
    "plt.xticks(index+1.*bw,range(5))\n",
    "plt.show()"
   ]
  },
  {
   "cell_type": "code",
   "execution_count": null,
   "id": "c70e5243",
   "metadata": {},
   "outputs": [],
   "source": [
    "###\n",
    "### ACTIVIDAD\n",
    "###\n",
    "import matplotlib.pyplot as plt\n",
    "import numpy as np\n",
    "index = np.arange(5)\n",
    "v1,v2,v3 = np.random.randint(3,10,15).reshape(3,5)\n",
    "bw = 0.3\n",
    "plt.bar(index,v1,bw,color='b')\n",
    "plt.bar(index+bw,v2,bw,color='g')\n",
    "plt.bar(index+2*bw,v3,bw,color='r')\n",
    "plt.xticks(index+1.*bw,range(5))\n",
    "#\n",
    "    #\n",
    "        plt.text(x+e*bw, y,'%d'%y, ha='center', va= 'bottom')\n",
    "plt.show()"
   ]
  },
  {
   "cell_type": "code",
   "execution_count": null,
   "id": "244b521f",
   "metadata": {},
   "outputs": [],
   "source": [
    "import matplotlib.pyplot as plt\n",
    "import numpy as np\n",
    "index = np.arange(5)\n",
    "\n",
    "v1,v2,v3 = np.random.randint(3,10,15).reshape(3,5)\n",
    "bw = 0.5\n",
    "\n",
    "plt.bar(index,v1,bw,color='b')\n",
    "plt.bar(index,v2,bw,color='g',bottom=v1)     #con el arg. bottom acumulamos \"altura\"\n",
    "plt.bar(index,v3,bw,color='r',bottom=(v1+v2))\n",
    "plt.xticks(index,range(5))\n",
    "plt.show()"
   ]
  },
  {
   "cell_type": "code",
   "execution_count": null,
   "id": "ec87a12b",
   "metadata": {},
   "outputs": [],
   "source": [
    "## Jugando con -ticks y -tickslabels\n",
    "\n",
    "import matplotlib.pyplot as plt\n",
    "import numpy as np\n",
    "index = np.arange(5)\n",
    "np.random.seed(1)\n",
    "v1,v2,v3 = np.random.randint(3,10,15).reshape(3,5)\n",
    "bw = 0.3\n",
    "\n",
    "fig, ax = plt.subplots()\n",
    "ax.bar(index, v1, bw, color='b',   label=\"Temperatura aire\")\n",
    "ax.bar(index,-v2, bw, color='cyan',label=\"Temperatura superficie\")\n",
    "ax.legend()\n",
    "ax.grid()\n",
    "\n",
    "labels = [item.get_text() for item in ax.get_yticklabels()]\n",
    "print(\"ANTES: \",labels)\n",
    "l = len(labels)\n",
    "labels = list(np.arange(0,10*l//2,10))\n",
    "print(\"ALGO: \",labels)\n",
    "labels = labels[::-1]+labels[1:] #Invertimos e ignoramos el 0 de una de las listas.\n",
    "print(\"POST: \",labels)\n",
    "ax.set_yticklabels(labels)\n",
    "\n",
    "ax.set_xticklabels(\"-ABCDE\") #Recordad que un string es una lista!\n",
    "\n",
    "plt.show()"
   ]
  },
  {
   "cell_type": "code",
   "execution_count": null,
   "id": "581b06db",
   "metadata": {},
   "outputs": [],
   "source": [
    "## Jugando con -ticks y -tickslabels\n",
    "\n",
    "import matplotlib.pyplot as plt\n",
    "import numpy as np\n",
    "index = np.arange(5)\n",
    "np.random.seed(1)\n",
    "v1,v2,v3 = np.random.randint(3,10,15).reshape(3,5)\n",
    "bw = 0.3\n",
    "\n",
    "fig, ax = plt.subplots()\n",
    "ax.bar(index, v1, bw, color='b',   label=\"Temperatura aire\")\n",
    "ax.bar(index,-v2, bw, color='cyan',label=\"Temperatura superficie\")\n",
    "ax.legend()\n",
    "ax.grid()\n",
    "\n",
    "newTicks = np.arange(v1.min(), v1.max(), 2.0)\n",
    "print(\"NEW TICKS: \",newTicks)\n",
    "ax.set_yticks(newTicks)   #!! plt.yticks(newTicks)\n",
    "\n",
    "labels = [item.get_text() for item in ax.get_yticklabels()]\n",
    "print(\"ANTES: \",labels)\n",
    "l = len(labels)\n",
    "labels = list(np.arange(0,10*l//2,10))\n",
    "print(\"ALGO: \",labels)\n",
    "labels = labels[::-1]+labels[1:] #Invertimos e ignoramos el 0 de una de las listas.\n",
    "print(\"POST: \",labels)\n",
    "ax.set_yticklabels(labels)\n",
    "\n",
    "plt.show()"
   ]
  },
  {
   "cell_type": "markdown",
   "id": "ff1905c6",
   "metadata": {},
   "source": [
    "### PIE CHARTS\n",
    "Los básicos nos los recomiendo"
   ]
  },
  {
   "cell_type": "code",
   "execution_count": null,
   "id": "df9ab083",
   "metadata": {},
   "outputs": [],
   "source": [
    "import matplotlib.pyplot as plt\n",
    "labels = ['A','B','C','D']\n",
    "values = [10,33,40,50]\n",
    "colors = ['yellow','green','red','blue']\n",
    "plt.pie(values,labels=labels,colors=colors)\n",
    "plt.axis('equal')\n",
    "plt.show()"
   ]
  },
  {
   "cell_type": "markdown",
   "id": "162b2367",
   "metadata": {},
   "source": [
    "### IMSHOW"
   ]
  },
  {
   "cell_type": "code",
   "execution_count": null,
   "id": "df99d6c5",
   "metadata": {},
   "outputs": [],
   "source": [
    "import matplotlib.pyplot as plt\n",
    "\n",
    "x = [[3, 4, 5],\n",
    "     [2, 3, 4],\n",
    "     [1, 2, 3]]\n",
    "\n",
    "c = plt.imshow(x, cmap ='Greens')\n",
    "\n",
    "# https://matplotlib.org/stable/tutorials/colors/colormaps.html\n",
    "\n",
    "plt.colorbar(c)\n",
    "plt.show()"
   ]
  },
  {
   "cell_type": "code",
   "execution_count": null,
   "id": "2345ae2e",
   "metadata": {},
   "outputs": [],
   "source": [
    "import matplotlib.pyplot as plt\n",
    "from matplotlib.colors import BoundaryNorm\n",
    "\n",
    "x = [[3, 4, 5],\n",
    "     [0.5, 3, 4],\n",
    "     [1, 1, 2]]\n",
    "\n",
    "cmap = plt.get_cmap('PiYG')\n",
    "norm = BoundaryNorm(range(4), ncolors=cmap.N, clip=True)    \n",
    "c = plt.imshow(x, cmap = cmap,norm=norm)\n",
    "\n",
    "plt.colorbar(c)\n",
    "plt.show()"
   ]
  },
  {
   "cell_type": "code",
   "execution_count": null,
   "id": "8ebc1c9b",
   "metadata": {
    "scrolled": true
   },
   "outputs": [],
   "source": [
    "# Podemos crear nuestros propios tableros\n",
    "\n",
    "import matplotlib as mpl\n",
    "import matplotlib.pyplot as plt\n",
    "from matplotlib.colors import BoundaryNorm\n",
    "\n",
    "x = [[3.5, 2, 4],\n",
    "     [0, 3, 2],\n",
    "     [0, 0, 1]]\n",
    "\n",
    "levels = 5\n",
    "tab20 = plt.cm.get_cmap('tab20', levels)\n",
    "bounds = range(levels)\n",
    "\n",
    "newcolors = tab20(np.linspace(0, 1, levels))\n",
    "newcolors[0] = np.array([250.0/256.0,250./256.,250./256.,1])\n",
    "newcmp = mpl.colors.ListedColormap(newcolors)\n",
    "norm = mpl.colors.BoundaryNorm(bounds, newcmp.N)\n",
    "\n",
    "c = plt.imshow(x, cmap=newcmp, norm=norm, interpolation='none')\n",
    "\n",
    "plt.colorbar(c)\n",
    "plt.show()"
   ]
  },
  {
   "cell_type": "markdown",
   "id": "f9abe9c7",
   "metadata": {},
   "source": [
    "Existen muchos más tipos de plots e incluso se pueden realizar anotaciones o incorporar elementos como flechas, texto e imágenes:\n",
    "\n",
    "https://matplotlib.org/stable/gallery/index.html\n"
   ]
  },
  {
   "cell_type": "markdown",
   "id": "c595210f",
   "metadata": {},
   "source": [
    "Lo interesante es que se pueden combinar entre si. Este ejemplo casero contiene\n",
    "- Diversos imshow sobre un mismo plot.\n",
    "- Sobre un plot de grafo (usando la librería Networkx)\n",
    "\n",
    "<img src=\"https://github.com/acsicuib/DistributedPolicies/raw/gauss2020/multi-agent-policies/scenarios/GAUSS2020/policy_getclosers_I_II_III/results/out.gif?raw=true\">"
   ]
  },
  {
   "cell_type": "markdown",
   "id": "9c956428",
   "metadata": {},
   "source": [
    "# Un tip de rendimiento:\n",
    "\n",
    "Para mejorar el rendimiento en el almacenamiento masivo de figuras/plots. El buffer de I/O del SO influye en el \"flush\" de la imagen de memoria a almacenamiento persistente. Es mejor, utilizar un mayor buffer. "
   ]
  },
  {
   "cell_type": "code",
   "execution_count": null,
   "id": "11010395",
   "metadata": {},
   "outputs": [],
   "source": [
    "%time\n",
    "for idfile in range(10):\n",
    "    fig, ax = plt.subplots(figsize=(16.0, 10.0))\n",
    "    ax.imshow(x, cmap ='Greens')\n",
    "    fig.colorbar(c)\n",
    "    fig.savefig(\"snap_%05d.png\"%idfile)\n",
    "    plt.close(fig) # ALERTA! Esto es importante "
   ]
  },
  {
   "cell_type": "code",
   "execution_count": null,
   "id": "56a8555d",
   "metadata": {},
   "outputs": [],
   "source": [
    "# Librería PIL\n",
    "# https://pillow.readthedocs.io/en/stable/\n",
    "\n",
    "from PIL import Image\n",
    "\n",
    "x = [[3, 4, 5],\n",
    "     [2, 3, 4],\n",
    "     [1, 2, 3]]\n"
   ]
  },
  {
   "cell_type": "code",
   "execution_count": null,
   "id": "78e860cf",
   "metadata": {},
   "outputs": [],
   "source": [
    "%time\n",
    "for idfile in range(10): \n",
    "    fig, ax = plt.subplots(figsize=(16.0, 10.0))\n",
    "    ax.imshow(x, cmap ='Greens')\n",
    "    fig.colorbar(c)\n",
    "    canvas = plt.get_current_fig_manager().canvas\n",
    "    canvas.draw()\n",
    "    pil_image = Image.frombytes('RGB', canvas.get_width_height(), canvas.tostring_rgb())\n",
    "    pil_image.save(\"snap_%05d.png\"%idfile)\n",
    "\n",
    "    plt.close(fig) # ALERTA! Esto es importante \n",
    "    \n",
    "# Quizás los tiempos no acompañen en este pequeño escenario, pero confiad en mi! :)  "
   ]
  },
  {
   "cell_type": "markdown",
   "id": "7ee5010d",
   "metadata": {},
   "source": [
    "#### Y si queréis hacer una animación sencilla (uniendo imágenes) podéis optar por usar el commando\n",
    "\n",
    "ffmpeg : https://www.ffmpeg.org/\n",
    "\n",
    "\n",
    "\n",
    "```bash\n",
    "ffmpeg -framerate 10 -i snap_%05d.png -c:v libx264 -pix_fmt yuv420p -crf 23 video.mp4\n",
    "\n",
    "ffmpeg -t 20 -i video.mp4 -vf \"fps=10,scale=520:-1:flags=lanczos,split[s0][s1];[s0]palettegen[p];[s1][p]paletteuse\" -loop 0 gitanimation.gif\n",
    "```\n",
    "\n",
    "Nota: El tunning de los argumentos es (fps,...) depende de vosotros."
   ]
  },
  {
   "cell_type": "markdown",
   "id": "14c07739",
   "metadata": {},
   "source": [
    "## Plantilla Académica Básica"
   ]
  },
  {
   "cell_type": "code",
   "execution_count": null,
   "id": "5aa8dc51",
   "metadata": {},
   "outputs": [],
   "source": [
    "x = np.arange(-2*np.pi,2*np.pi,0.01)\n",
    "y = np.cos(x)\n",
    "\n",
    "import matplotlib.ticker as tck\n",
    "\n",
    "fig, ax = plt.subplots(figsize=(20, 12)) # Fig Size\n",
    "ax.plot(x,y,\"--\",label=\"Values\") #Legeng \n",
    "ax.set_ylabel('Response time',fontsize=32) #Label font size\n",
    "# ax.set_title('Response time by Experiment and App',fontsize=35) #Title?\n",
    "\n",
    "ax.xaxis.set_major_formatter(tck.FormatStrFormatter('%g $\\pi$')) # Ticks (freq.)\n",
    "ax.xaxis.set_major_locator(tck.MultipleLocator(base=1.0))\n",
    "\n",
    "for tick in ax.get_xticklabels(): # Size ticks\n",
    "    tick.set_fontsize(28)\n",
    "for tick in ax.get_yticklabels():\n",
    "    tick.set_fontsize(24)    \n",
    "\n",
    "ax.legend(ncol=1,loc=0,prop={'size': 30}) # Legend size and position\n",
    "fig.tight_layout() #Reduce margin between fig and axes\n",
    "\n",
    "plt.show() #opt\n",
    "fig.savefig(\"bar_response_time.pdf\", dpi=400) # Quality"
   ]
  },
  {
   "cell_type": "markdown",
   "id": "ad94d282",
   "metadata": {},
   "source": [
    "## Matplotlib y Pandas\n",
    "\n",
    "¿Cómo podemos integrar los plots de Pandas en nuestras plantillas y en las funcionalidades de matplotlib?"
   ]
  },
  {
   "cell_type": "code",
   "execution_count": null,
   "id": "1b3e8f6a",
   "metadata": {},
   "outputs": [],
   "source": [
    "import pandas as pd\n",
    "\n",
    "data = {'s1':np.random.randint(0,10,5),\n",
    "        's2':[2,4,5,2,4],\n",
    "        's3':np.random.randint(0,10,5)}\n",
    "\n",
    "df = pd.DataFrame(data)\n",
    "\n",
    "df.index = [\"A\",\"B\",\"C\",\"D\",\"E\"]\n",
    "df.plot(kind='bar', stacked=True)\n"
   ]
  },
  {
   "cell_type": "code",
   "execution_count": null,
   "id": "7bf93ef2",
   "metadata": {},
   "outputs": [],
   "source": [
    "fig, ax = plt.subplots(figsize=(20, 12)) \n",
    "df.plot(kind='bar', stacked=True,ax=ax)  ### Aqui está el truco: df.plot admite ax!!\n",
    "\n",
    "ax.legend(ncol=1,loc=0,prop={'size': 30}) \n",
    "\n",
    "plt.xticks(rotation=0,fontsize=24) #alternativas al fontsize. Alerta: sobre plt.\n",
    "plt.show()"
   ]
  },
  {
   "cell_type": "markdown",
   "id": "dbae8e87",
   "metadata": {},
   "source": [
    "# <span style=\"color:blue\">ACTIVIDADES</span>\n",
    "\n",
    "## A. Crear la siguiente visualización\n",
    "\n",
    "Con el código de la siguiente celda intenta realizar la visualización que se muestra. Por cierto, la documentación es siempre nuestra amiga! https://matplotlib.org/stable/gallery/subplots_axes_and_figures/zoom_inset_axes.html\n",
    "\n",
    "<img src=\"images/resultado_matplotlib_A.png\"/>\n"
   ]
  },
  {
   "cell_type": "code",
   "execution_count": null,
   "id": "6976ab54",
   "metadata": {},
   "outputs": [],
   "source": [
    "import numpy as np\n",
    "import matplotlib.pyplot as plt\n",
    "\n",
    "np.random.seed(0)\n",
    "samples = np.random.multivariate_normal([0,0], [[1,0],[0,1]], 5000)\n",
    "starts  = np.random.multivariate_normal([0,0], [[0.1,0],[0,.1]], 10)\n",
    "\n",
    "# data preparation: x, y \n",
    "\n",
    "fig, ax = plt.subplots(figsize=(20, 12)) \n",
    "\n",
    "#  visualization\n",
    "ax.scatter(x2,y2, s=10, c=\"magenta\", marker=(5, 1))\n",
    "# ...\n",
    "\n",
    "plt.show()"
   ]
  },
  {
   "cell_type": "markdown",
   "id": "fefde35c",
   "metadata": {},
   "source": [
    "## B. Crear la siguiente visualización\n",
    "\n",
    "Con el código de las dos siguientes celdas intenta realizar la visualización que se muestra. Usamos el fichero *trajectory-sample.gpx* para extrar las coordenadas.\n",
    "\n",
    "**Nota**: La libreía GPXPY permite manipular ficheros GPX de manera eficiente: simplificar puntos, slicings, etc. pero en este caso no la instalamos y usamos una carga diferente\n",
    "\n",
    "<img src=\"images/resultado_matplotlib_B.png\"/>"
   ]
  },
  {
   "cell_type": "code",
   "execution_count": null,
   "id": "b37aa09a",
   "metadata": {},
   "outputs": [],
   "source": [
    "import re\n",
    "import numpy as np\n",
    "import pandas as pd\n",
    "import matplotlib.pyplot as plt\n",
    "from matplotlib import gridspec\n",
    "\n",
    "###### COPY FROM \n",
    "###### https://stackoverflow.com/questions/11105663/how-to-extract-gpx-data-with-python\n",
    "GPXfile=\"trajectory-sample.gpx\"\n",
    "data = open(GPXfile).read()\n",
    "\n",
    "lat = np.array(re.findall(r'lat=\"([^\"]+)',data),dtype=float)\n",
    "lon = np.array(re.findall(r'lon=\"([^\"]+)',data),dtype=float)\n",
    "time = re.findall(r'<time>([^\\<]+)',data)\n",
    "######\n",
    "###### BEST: https://pypi.org/project/gpxpy/\n",
    "\n",
    "ele = re.findall(r'<ele>([^\\<]+)',data)"
   ]
  },
  {
   "cell_type": "code",
   "execution_count": null,
   "id": "8c4cdac6",
   "metadata": {},
   "outputs": [],
   "source": [
    "fig  = plt.figure(figsize=(18,6)) \n",
    "gs = gridspec.GridSpec(1, 2, width_ratios=[3, 2]) \n",
    "ax1 = plt.subplot(gs[0])\n",
    "\n",
    "# TODO\n",
    "\n",
    "plt.show()"
   ]
  },
  {
   "cell_type": "markdown",
   "id": "b4bfafb1",
   "metadata": {},
   "source": [
    "# 2. BOKEH\n",
    "\n",
    "https://bokeh.org/\n",
    "\n",
    "<img src=\"https://static.bokeh.org/logos/logotype.svg\" width=\"400px\"/>"
   ]
  },
  {
   "cell_type": "markdown",
   "id": "2685a05b",
   "metadata": {},
   "source": [
    "### La interacción es una limitación de las visualizaciones en Matplotlib"
   ]
  },
  {
   "cell_type": "code",
   "execution_count": null,
   "id": "ed02b462",
   "metadata": {},
   "outputs": [],
   "source": [
    "# python3 -m pip install bokeh\n",
    "\n",
    "# https://docs.bokeh.org/en/latest/docs/first_steps/first_steps_7.html\n",
    "\n",
    "from bokeh.io import push_notebook,output_notebook, show\n",
    "from bokeh.plotting import figure\n",
    "output_notebook()"
   ]
  },
  {
   "cell_type": "code",
   "execution_count": null,
   "id": "cd9f163e",
   "metadata": {},
   "outputs": [],
   "source": [
    "# Nuestro primer ejemplo con Bokeh\n",
    "import numpy as np\n",
    "samples = np.random.multivariate_normal([0,0], [[1,0],[0,1]], 5000) #mean, cov, sampless\n",
    "needle = [0,0]\n",
    "\n",
    "tools = \"hover, box_zoom, undo, crosshair\"\n",
    "p = figure(tools=tools) #Entorno y manipulación simplificada\n",
    "p.scatter(needle[0],needle[1],color=\"red\")\n",
    "p.scatter(samples[:,0], samples[:,1], alpha=0.6, color=\"green\")\n",
    "show(p)"
   ]
  },
  {
   "cell_type": "markdown",
   "id": "e4b9d724",
   "metadata": {},
   "source": [
    "### Types"
   ]
  },
  {
   "cell_type": "code",
   "execution_count": null,
   "id": "59f969af",
   "metadata": {},
   "outputs": [],
   "source": [
    "# Scatters\n",
    "# https://docs.bokeh.org/en/latest/docs/reference/plotting.html#bokeh.plotting.figure.Figure\n",
    "p = figure(plot_width=400, plot_height=400)\n",
    "\n",
    "p.square([1, 2, 3, 4, 5], [6, 7, 2, 4, 5], size=[10, 15, 20, 25, 30], color=\"firebrick\", alpha=0.6)\n",
    "p.diamond_cross(x=[1, 3, 3], y=[5, 5, 3], size=20,color=\"blue\", line_width=2)\n",
    "show(p) "
   ]
  },
  {
   "cell_type": "code",
   "execution_count": null,
   "id": "1183c631",
   "metadata": {},
   "outputs": [],
   "source": [
    "# Lines\n",
    "\n",
    "from bokeh.sampledata.glucose import data\n",
    "data.head() #bokeh sampledata > $HOME/.bokeh/data\n",
    "days = data.loc['2010-10-01':'2010-10-02']\n",
    "\n",
    "p = figure(x_axis_type=\"datetime\", title=\"Glocose Range\", plot_height=350, plot_width=500)\n",
    "p.xgrid.grid_line_color=None\n",
    "p.ygrid.grid_line_alpha=0.5\n",
    "p.xaxis.axis_label = 'Time'\n",
    "p.yaxis.axis_label = 'Value'\n",
    "\n",
    "p.line(days.index, days.glucose)\n",
    "\n",
    "show(p)"
   ]
  },
  {
   "cell_type": "code",
   "execution_count": null,
   "id": "bd950a2e",
   "metadata": {},
   "outputs": [],
   "source": [
    "# Una mezcla\n",
    "\n",
    "import numpy as np\n",
    "\n",
    "\n",
    "num = np.arange(1, 11)\n",
    "quantity = np.random.randint(3,20,10)\n",
    "cum_quant = np.cumsum(quantity)\n",
    "\n",
    "p = figure(title='A mix',\n",
    "             plot_height=400, plot_width=700,\n",
    "             x_axis_label='Numbers', y_axis_label='Quantity',\n",
    "             x_minor_ticks=2, y_range=(0, 200),\n",
    "             toolbar_location=None)\n",
    "\n",
    "p.vbar(x=num, bottom=0, top=quantity, \n",
    "         color='blue', width=0.75, \n",
    "         legend_label='Quantity')\n",
    "\n",
    "p.line(x=num, y=cum_quant, \n",
    "         color='gray', line_width=1,\n",
    "         legend_label='Cumulative')\n",
    "\n",
    "p.legend.location = 'top_left'\n",
    "\n",
    "\n",
    "show(p)"
   ]
  },
  {
   "cell_type": "markdown",
   "id": "dc30a642",
   "metadata": {},
   "source": [
    "### Orzanización"
   ]
  },
  {
   "cell_type": "code",
   "execution_count": null,
   "id": "49d86be0",
   "metadata": {},
   "outputs": [],
   "source": [
    "from bokeh.layouts import column, row\n",
    "\n",
    "p1= figure(title=\"P1\", plot_height=200, plot_width=200)\n",
    "p1.line(np.arange(10), np.random.random(10))\n",
    "\n",
    "p2 = figure(title=\"P2\", plot_height=200, plot_width=200)\n",
    "p2.scatter(np.arange(10), np.random.random(10))\n",
    "\n",
    "p3 = figure(title=\"P3\", plot_height=100, plot_width=100)\n",
    "p3.line(np.arange(10), np.random.random(10),color=\"orange\")\n",
    "\n",
    "nested_layout = column(row(p1,p2), p3)\n",
    "show(nested_layout)\n"
   ]
  },
  {
   "cell_type": "code",
   "execution_count": null,
   "id": "c5ba99f6",
   "metadata": {},
   "outputs": [],
   "source": [
    "# Linked axes in Layouts\n",
    "\n",
    "from bokeh.layouts import column, row\n",
    "\n",
    "p1= figure(title=\"P1\", plot_height=200, plot_width=200)\n",
    "p1.line(np.arange(100), np.random.random(100))\n",
    "\n",
    "p2 = figure(title=\"P2\", plot_height=200, plot_width=200)\n",
    "p2.scatter(np.arange(100), np.random.random(100))\n",
    "\n",
    "p2.y_range = p1.y_range\n",
    "\n",
    "\n",
    "nested_layout = row(p1,p2)\n",
    "show(nested_layout)"
   ]
  },
  {
   "cell_type": "markdown",
   "id": "182e5a91",
   "metadata": {},
   "source": [
    "## ColumnDataSource\n",
    "La estructura para vincular datos dentro de plots"
   ]
  },
  {
   "cell_type": "code",
   "execution_count": null,
   "id": "edd754c8",
   "metadata": {},
   "outputs": [],
   "source": [
    "from bokeh.plotting import ColumnDataSource\n",
    "from bokeh.models import HoverTool\n",
    "\n",
    "x = [0,1,2,3,4]  \n",
    "y = [0,1,2,3,4]\n",
    "label=\"abcde\"\n",
    "\n",
    "source = ColumnDataSource(\n",
    "    data=dict(\n",
    "        x=x,\n",
    "        y=y,\n",
    "        label=list(label)\n",
    "    )\n",
    ")\n",
    "tools = \"hover, box_zoom, undo, crosshair\"\n",
    "p = figure(title=\"Select\",tools=tools)\n",
    "p.line('x', 'y', color=\"blue\", line_width=2, source=source)\n",
    "p.circle('x', 'y', color=\"#2222aa\", line_width=10, source=source)\n",
    "\n",
    "hover = p.select(dict(type=HoverTool))\n",
    "hover.tooltips =dict([\n",
    "    (\"lat,long\", \"(@x, @y)\"),\n",
    "    (\"label\", \"@label\"),\n",
    "])\n",
    "\n",
    "show(p)\n",
    "\n",
    "# https://docs.bokeh.org/en/latest/docs/user_guide/tools.html\n",
    "\n",
    "##Alternative\n",
    "\n",
    "#tootips = [\n",
    "#    (\"(x,y)\", \"($x, $y)\"),\n",
    "#    (\"label\", \"@label\"),\n",
    "#]\n",
    "\n",
    "#p = figure(plot_width=400, plot_height=400, tooltips=tootltips,title=\"Mouse over the dots\")"
   ]
  },
  {
   "cell_type": "code",
   "execution_count": null,
   "id": "c3684065",
   "metadata": {},
   "outputs": [],
   "source": [
    "# Que datos hay dentro del source?\n",
    "print(source)\n",
    "print(source.data)"
   ]
  },
  {
   "cell_type": "markdown",
   "id": "e65256ff",
   "metadata": {},
   "source": [
    "### Dataframes en ColumnDataSources"
   ]
  },
  {
   "cell_type": "code",
   "execution_count": null,
   "id": "bee48e2f",
   "metadata": {},
   "outputs": [],
   "source": [
    "# Podemos cargar Dataframes directamente en ColumnDataSource\n",
    "from bokeh.plotting import ColumnDataSource\n",
    "import pandas as pd\n",
    "\n",
    "df = pd.DataFrame(\n",
    "    {\"price\":np.random.rand(10)},\n",
    "    index=pd.date_range(\"2021-01-01\", periods=10, freq=\"H\"))\n",
    "\n",
    "source = ColumnDataSource(df)\n",
    "\n",
    "\n",
    "p = figure(x_axis_type = 'datetime', x_axis_label = 'date', y_axis_label = 'Prices',plot_height=300, plot_width=300)\n",
    "p.line(x = 'index', y = 'price', source = source, color = 'red')\n",
    "p.circle(x = 'index', y = 'price', source = source, fill_color = 'white', size = 3)\n",
    "show(p)"
   ]
  },
  {
   "cell_type": "markdown",
   "id": "6a3c3353",
   "metadata": {},
   "source": [
    "### Color Mappers \n",
    "Podemos asociar características de diseño a los atributos: colores, tamaño, etc.\n",
    "https://docs.bokeh.org/en/latest/docs/reference/models/mappers.html"
   ]
  },
  {
   "cell_type": "code",
   "execution_count": null,
   "id": "36019492",
   "metadata": {},
   "outputs": [],
   "source": [
    "# Categotical Color\n",
    "\n",
    "from bokeh.models import CategoricalColorMapper\n",
    "from bokeh.models import HoverTool\n",
    "\n",
    "df = pd.DataFrame({\"category\":np.random.choice([\"A\",\"B\"],100),\n",
    "                   \"time\":np.arange(100),\n",
    "                   \"cost\":np.random.randint(10,100,100)})\n",
    "print(df.head())\n",
    "data = ColumnDataSource(df)\n",
    "\n",
    "hover_tool = HoverTool(tooltips = [\n",
    "    ('Category', '@category'),\n",
    "    ('Cost', '@cost')\n",
    "]) \n",
    "\n",
    "\n",
    "category_map = CategoricalColorMapper(\n",
    "    factors = ['A', 'B'], palette = ['blue', 'green'])\n",
    "\n",
    "\n",
    "p = figure(tools = [hover_tool],plot_height=300, plot_width=300)\n",
    "p.circle('time', 'cost', size = 8, source = data, color = {'field': 'category', 'transform': category_map})\n",
    "show(p)"
   ]
  },
  {
   "cell_type": "code",
   "execution_count": null,
   "id": "18efc96e",
   "metadata": {},
   "outputs": [],
   "source": [
    "# ColumnDataSource and Colormaps\n",
    "from bokeh.models import LinearColorMapper\n",
    "from bokeh.models import HoverTool\n",
    "\n",
    "df = pd.DataFrame({\"category\":np.random.choice([\"A\",\"B\"],100),\n",
    "                   \"time\":np.arange(100),\n",
    "                   \"cost\":np.random.randint(10,40,100)})\n",
    "print(df.head())\n",
    "\n",
    "data = ColumnDataSource(df)\n",
    "\n",
    "hover_tool = HoverTool(tooltips = [\n",
    "    ('Category', '@category'),\n",
    "    ('Cost', '@cost')\n",
    "]) \n",
    "\n",
    "cmap = LinearColorMapper(palette=\"Viridis256\", \n",
    "                        low = min(df.cost), \n",
    "                        high = max(df.cost))\n",
    "\n",
    "\n",
    "p = figure(tools = [hover_tool],plot_height=300, plot_width=300)\n",
    "p.circle('time', 'cost', size = 8, source = data, color = {'field': 'cost', 'transform': cmap})\n",
    "show(p)"
   ]
  },
  {
   "cell_type": "code",
   "execution_count": null,
   "id": "1997f6e5",
   "metadata": {},
   "outputs": [],
   "source": [
    "# ColumnDataSource and Colormaps\n",
    "from bokeh.models import LinearColorMapper\n",
    "from bokeh.models import HoverTool\n",
    "\n",
    "df_prices = pd.DataFrame(\n",
    "    {\"price\":np.random.rand(10)},\n",
    "    index=pd.date_range(\"2021-01-01\", periods=10, freq=\"H\"))\n",
    "\n",
    "df_hours = pd.DataFrame({\"category\":np.random.choice([\"A\",\"B\"],100),\n",
    "                   \"time\":np.arange(100),\n",
    "                   \"cost\":np.random.randint(10,100,100)})\n",
    "print(df.head())\n",
    "\n",
    "data = ColumnDataSource(df)\n",
    "\n",
    "hover_tool = HoverTool(tooltips = [\n",
    "    ('Category', '@category'),\n",
    "    ('Cost', '@cost')\n",
    "]) \n",
    "\n",
    "cmap = LinearColorMapper(palette=\"Viridis256\", \n",
    "                        low = min(df.cost), \n",
    "                        high = max(df.cost))\n",
    "\n",
    "\n",
    "\n",
    "p = figure(tools = [hover_tool],plot_height=300, plot_width=300)\n",
    "p.circle('time', 'cost',source = data, size = \"cost\", color = {'field': 'cost', 'transform': cmap})\n",
    "show(p)"
   ]
  },
  {
   "cell_type": "markdown",
   "id": "0d45b10e",
   "metadata": {},
   "source": [
    "## Sobre mapas\n",
    "https://docs.bokeh.org/en/latest/docs/user_guide/geo.html"
   ]
  },
  {
   "cell_type": "code",
   "execution_count": null,
   "id": "fe839e49",
   "metadata": {},
   "outputs": [],
   "source": [
    "from bokeh.plotting import figure, output_file, show\n",
    "from bokeh.tile_providers import CARTODBPOSITRON, get_provider\n",
    "\n",
    "tile_provider = get_provider(CARTODBPOSITRON)\n",
    "\n",
    "# range bounds supplied in web mercator coordinates: \n",
    "# http://epsg.io/map#srs=3857&x=315532.053179&y=4808166.162815&z=6&layer=streets\n",
    "#315532.052761 4808166.163365\n",
    "p = figure(x_range=(39550, 486532), y_range=(4888166, 4908166),\n",
    "           x_axis_type=\"mercator\", y_axis_type=\"mercator\")\n",
    "p.add_tile(tile_provider)\n",
    "\n",
    "show(p)"
   ]
  },
  {
   "cell_type": "markdown",
   "id": "cd130b1a",
   "metadata": {},
   "source": [
    "Alguna referencia interesante:\n",
    "- https://towardsdatascience.com/level-up-your-visualizations-make-interactive-maps-with-python-and-bokeh-7a8c1da911fd\n",
    "\n",
    "Pero, hay \"mejores\" alternativas:\n",
    "- https://deck.gl/ (a nivel dinámico y web)\n",
    "- Qgis (con python)\n",
    "- Cesium https://cesium.com/ file:///Users/isaaclera/WebstormProjects/CesiumTest/index.html"
   ]
  },
  {
   "cell_type": "markdown",
   "id": "a93b4161",
   "metadata": {},
   "source": [
    "### Podemos cargar dinámicamente datos sobre nuestra fuente de datos \n"
   ]
  },
  {
   "cell_type": "code",
   "execution_count": null,
   "id": "f1ed3344",
   "metadata": {},
   "outputs": [],
   "source": [
    "import numpy as np\n",
    "df = pd.DataFrame(\n",
    "    {\"cost\":np.random.rand(10)},\n",
    "    index=pd.date_range(\"2021-01-01\", periods=10, freq=\"H\"))\n",
    "\n",
    "print(df.head(5))\n",
    "source = ColumnDataSource(df)\n",
    "source.data[\"index\"][-1] + np.timedelta64(1, 'h')"
   ]
  },
  {
   "cell_type": "code",
   "execution_count": null,
   "id": "c2e0275e",
   "metadata": {},
   "outputs": [],
   "source": [
    "new_data = {\n",
    "    \"index\": [source.data[\"index\"][-1]+  np.timedelta64(1, 'h')],\n",
    "    \"cost\": np.random.rand(1)\n",
    "}\n",
    "print(new_data)"
   ]
  },
  {
   "cell_type": "code",
   "execution_count": null,
   "id": "ede161c8",
   "metadata": {},
   "outputs": [],
   "source": [
    "# Actualizamos el valor (no ocurre nada ya que no tenemos ningúna visualización conectada ->)\n",
    "source.stream(new_data) \n",
    "# es decir, necesitamos un BOKEH SERVER"
   ]
  },
  {
   "cell_type": "markdown",
   "id": "389e24f8",
   "metadata": {},
   "source": [
    "## Bokeh server\n",
    "Bokeh incluye un servidor de visualización para actualizar dinámicamente gráficos\n",
    "\n",
    "En un fichero py generaremos una visualización con carga dinámica\n",
    "\n",
    "https://docs.bokeh.org/en/latest/docs/user_guide/server.html\n",
    "\n",
    "Aprovechemos el material ya existente, analicemos el siguiente ejemplo: https://github.com/bokeh/bokeh/tree/2.3.2/examples/app/ohlc\n",
    "\n",
    "**Nota**: es muy recomendable los ejemplos del git de Bokeh\n",
    "    \n",
    "Para ejecutar el servidor:\n",
    "```bash\n",
    " bokeh serve --show file.py \n",
    "```"
   ]
  },
  {
   "cell_type": "markdown",
   "id": "9f9c4331",
   "metadata": {},
   "source": [
    "### <span style=\"color:blue\"> Actividad (homework//officework)</span>\n",
    "Elige tu propia aventura:\n",
    "- Realizar un plot de linea que añada una muestra cada cierto periodo de tiempo\n",
    "- Realizar un scatter que añada un punto cada periodo de tiempo"
   ]
  },
  {
   "cell_type": "markdown",
   "id": "9bee2223",
   "metadata": {},
   "source": [
    "## <span style=\"color:blue\">Una interacción más compleja gracias a Bokeh Server</span>"
   ]
  },
  {
   "cell_type": "markdown",
   "id": "763b5727",
   "metadata": {},
   "source": [
    "#### EJEMPLO 1\n",
    "Guardamos todo este código en un fichero llamado: ejemplo1.py \n",
    "```python\n",
    "from bokeh.layouts import widgetbox\n",
    "from bokeh.models import Slider\n",
    "from bokeh.io import curdoc\n",
    "\n",
    "slider_widget = Slider(start = 0, end = 100, step = 10, title = 'One Slider')\n",
    "slider_layout = widgetbox(slider_widget)\n",
    "\n",
    "# add the slider to the app\n",
    "curdoc().add_root(slider_layout)\n",
    "```\n",
    "Y ejecutamos el servidor\n",
    "```bash\n",
    "bokeh server --show ejemplo1.py\n",
    "```"
   ]
  },
  {
   "cell_type": "markdown",
   "id": "bea24f17",
   "metadata": {},
   "source": [
    "#### EJEMPLO 2\n",
    "Guardamos todo este código en un fichero llamado: ejemplo2.py \n",
    "```python\n",
    "from bokeh.models import Select, ColumnDataSource\n",
    "from bokeh.io import curdoc\n",
    "from bokeh.layouts import row\n",
    "from bokeh.plotting import figure\n",
    "from numpy.random import random, normal\n",
    "\n",
    "initial_points = 500\n",
    "data_points = ColumnDataSource(data = {'x': random(initial_points), 'y': random(initial_points)})\n",
    "\n",
    "p = figure(title = \"Scatter plot distribution selector\")\n",
    "p.diamond(x = 'x', y = 'y', source = data_points, color = 'red')\n",
    "\n",
    "select_widget = Select(options = ['uniform distribution', 'normal distribution'], value = 'uniform distribution', title = 'Select the distribution of your choice')\n",
    "\n",
    "\n",
    "def callback(attr, old, new):\n",
    "    if select_widget.value == 'uniform distribution':\n",
    "        function = random\n",
    "    else:\n",
    "        function = normal\n",
    "    data_points.data = {'x': function(size = initial_points), 'y': function(size = initial_points)}\n",
    "\n",
    "select_widget.on_change('value', callback)\n",
    "\n",
    "layout = row(select_widget, p)\n",
    "\n",
    "curdoc().add_root(layout)\n",
    "```\n",
    "Y ejecutamos el servidor\n",
    "```bash\n",
    "bokeh server --show ejemplo2.py\n",
    "```"
   ]
  },
  {
   "cell_type": "markdown",
   "id": "429ab501",
   "metadata": {},
   "source": [
    "### Exportación\n",
    "Las gráficas se pueden exportar a otros entornos (interactivos)\n",
    "https://docs.bokeh.org/en/latest/docs/first_steps/first_steps_7.html"
   ]
  },
  {
   "cell_type": "code",
   "execution_count": null,
   "id": "49ed8aaf",
   "metadata": {},
   "outputs": [],
   "source": [
    "from bokeh.plotting import figure, output_file, save\n",
    "\n",
    "# prepare some data\n",
    "x = [1, 2, 3, 4, 5]\n",
    "y = [4, 5, 5, 7, 2]\n",
    "\n",
    "# set output to static HTML file\n",
    "output_file(filename=\"my_plot_in_HTML.html\", title=\"Static HTML file\")\n",
    "\n",
    "# create a new plot with a specific size\n",
    "p = figure(sizing_mode=\"stretch_width\", max_width=500, plot_height=250)\n",
    "\n",
    "# add a circle renderer\n",
    "circle = p.circle(x, y, fill_color=\"red\", size=15)\n",
    "\n",
    "# save the results to a file\n",
    "save(p)"
   ]
  },
  {
   "cell_type": "markdown",
   "id": "a6c05f24",
   "metadata": {},
   "source": [
    "### Inclusión dentro de otros entornos:\n",
    "https://docs.bokeh.org/en/latest/docs/user_guide/embed.html"
   ]
  },
  {
   "cell_type": "markdown",
   "id": "f9d156b6",
   "metadata": {},
   "source": [
    "# 3. Librería Holoview\n",
    "\n",
    "https://holoviews.org/\n",
    "    \n",
    "<img src=\"https://holoviews.org/_static/logo_horizontal.png\"/>"
   ]
  },
  {
   "cell_type": "markdown",
   "id": "7ed89b93",
   "metadata": {},
   "source": [
    "Algún ejemplo casero: https://wisaaco.github.io/2020/11/25/Users-Handover-Analysis-in-Jupyter-Notebook.html\n",
    "\n",
    "### Instalamos holoviews\n",
    "y posteriormnete, instalamos sus ejemplos\n",
    "```bash\n",
    "python3 -m pip install holoviews\n",
    "\n",
    "holoviews --install-examples\n",
    "```"
   ]
  },
  {
   "cell_type": "markdown",
   "id": "68e7032e",
   "metadata": {},
   "source": [
    "Podemos cargar los notebooks de ejemplo en holoviews-examples/getting-started/"
   ]
  },
  {
   "cell_type": "markdown",
   "id": "5f2ec4e2",
   "metadata": {},
   "source": [
    "# 4. Librería Holoviz\n",
    "\n",
    "https://holoviz.org/\n",
    "\n",
    "<img src=\"https://holoviz.org/assets/holoviz-logo-stacked.svg\"/>"
   ]
  },
  {
   "cell_type": "markdown",
   "id": "b1649d8d",
   "metadata": {},
   "source": [
    "### Instalamos holoviz\n",
    "*¡IMPORTANTE HACERLO SIEMPRE DESDE EN UN ENTORNO VIRTUAL!*\n",
    "\n",
    "Note: https://parquet.apache.org/\n",
    "\n",
    "y posteriormnete, instalamos sus ejemplos\n",
    "```bash\n",
    "python3 -m pip install holoviz pyarrow fastparquet python-snappy\n",
    "\n",
    "holoviz examples\n",
    "```"
   ]
  },
  {
   "cell_type": "markdown",
   "id": "d7b704dd",
   "metadata": {},
   "source": [
    "Podemos cargar los notebooks de ejemplo en holoviz-examples/tutorial/"
   ]
  },
  {
   "cell_type": "markdown",
   "id": "d88cf88d",
   "metadata": {},
   "source": [
    "# Referencias\n",
    "- https://s3.amazonaws.com/assets.datacamp.com/production/course_2244/slides/ch4_slides.pdf\n",
    "- Libro: \"Data Visualization with Bokeh\" ed. Packh"
   ]
  }
 ],
 "metadata": {
  "kernelspec": {
   "display_name": "Python 3",
   "language": "python",
   "name": "python3"
  },
  "language_info": {
   "codemirror_mode": {
    "name": "ipython",
    "version": 3
   },
   "file_extension": ".py",
   "mimetype": "text/x-python",
   "name": "python",
   "nbconvert_exporter": "python",
   "pygments_lexer": "ipython3",
   "version": "3.6.5"
  }
 },
 "nbformat": 4,
 "nbformat_minor": 5
}
