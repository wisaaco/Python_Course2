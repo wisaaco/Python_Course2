{
 "cells": [
  {
   "cell_type": "markdown",
   "id": "a79b17f4",
   "metadata": {},
   "source": [
    "# Librería SYMPY\n",
    "\n",
    "<img src=\"https://upload.wikimedia.org/wikipedia/commons/thumb/5/54/Sympy_logo.svg/1200px-Sympy_logo.svg.png\" width=\"200px\"/>\n",
    "\n",
    "https://www.sympy.org/en/index.html\n",
    "\n",
    "Sympy es una librería para matemáticas simbólicas y aunque esa parte de *nuestra vida* la hemos superado, su uso hace más **eficiente y preciso** el cáculo.\n",
    "\n",
    "Veamos en que consiste y como podemos integrarla en nuestros proyectos:\n"
   ]
  },
  {
   "cell_type": "code",
   "execution_count": 34,
   "id": "4a7709de",
   "metadata": {},
   "outputs": [
    {
     "name": "stdout",
     "output_type": "stream",
     "text": [
      "pi\n",
      "3.141592653589793\n",
      "3\n"
     ]
    }
   ],
   "source": [
    "import sympy\n",
    "import sympy as sp\n",
    "from sympy import *\n",
    "\n",
    "print(sympy.pi) # pi\n",
    "print(float(sp.pi))\n",
    "print(int(pi))"
   ]
  },
  {
   "cell_type": "code",
   "execution_count": 42,
   "id": "9b6f07f8",
   "metadata": {},
   "outputs": [
    {
     "name": "stdout",
     "output_type": "stream",
     "text": [
      "pi*x/y\n",
      "--------------------\n",
      "π⋅x\n",
      "───\n",
      " y \n"
     ]
    }
   ],
   "source": [
    "x,y = symbols('x y')\n",
    "expr = (pi*x)/y\n",
    "print(expr)\n",
    "print(\"--\"*10)\n",
    "pprint(expr) \n",
    "# sympy.init_printing(use_unicode=True) #en IDEs como Spyder"
   ]
  },
  {
   "cell_type": "markdown",
   "id": "f8c629f8",
   "metadata": {},
   "source": [
    "##  Tipos de elementos\n",
    "### Variables"
   ]
  },
  {
   "cell_type": "code",
   "execution_count": 87,
   "id": "2e2f1238",
   "metadata": {},
   "outputs": [
    {
     "name": "stdout",
     "output_type": "stream",
     "text": [
      "        _____________\n",
      "x + 3⋅╲╱ x⋅y + y + 1 \n",
      "--------------------\n",
      "x + 3 \\sqrt{x y + y + 1}\n"
     ]
    }
   ],
   "source": [
    "x, y = symbols('x y')\n",
    "x, y = sp.var(\"x y\")  # es lo mismo que symbols\n",
    "a,b,c,d = sp.symbols(\"a:d\") # e incluso podemos tener rangos de variables\n",
    "expr = x+3*sqrt(x*y+y+1)\n",
    "pprint(expr)\n",
    "print(\"--\"*10)\n",
    "print(latex(expr)) # lo podemos llevar a Latex "
   ]
  },
  {
   "cell_type": "markdown",
   "id": "28ebf415",
   "metadata": {},
   "source": [
    "Y esa expresión en Latex funciona!\n",
    "$$x + 3 \\sqrt{x y + y + 1}$$"
   ]
  },
  {
   "cell_type": "code",
   "execution_count": 126,
   "id": "2ae3c454",
   "metadata": {},
   "outputs": [
    {
     "data": {
      "text/plain": [
       "\"Add(Symbol('x'), Mul(Integer(3), Pow(Add(Mul(Symbol('x'), Symbol('y')), Symbol('y'), Integer(1)), Rational(1, 2))))\""
      ]
     },
     "execution_count": 126,
     "metadata": {},
     "output_type": "execute_result"
    }
   ],
   "source": [
    "srepr(expr) # La composición jerarquíca/dependencia entre variables"
   ]
  },
  {
   "cell_type": "markdown",
   "id": "4e8f9ef6",
   "metadata": {},
   "source": [
    "### Constantes"
   ]
  },
  {
   "cell_type": "code",
   "execution_count": 37,
   "id": "68589ea9",
   "metadata": {},
   "outputs": [
    {
     "name": "stdout",
     "output_type": "stream",
     "text": [
      "π\n",
      "3.141592653589793\n",
      "3.14159265358979323846264338328\n",
      "ⅈ\n",
      "∞\n",
      "ℯ\n",
      "2.718281828\n"
     ]
    }
   ],
   "source": [
    "pprint(pi) #pi\n",
    "print(float(sympy.pi)) # No es lo correcto\n",
    "print(sympy.pi.evalf(30)) #Correcto\n",
    "\n",
    "pprint(sympy.I) # número imaginario\n",
    "pprint(sympy.oo)# Infinito\n",
    "pprint(sympy.E) # e = exp(1)\n",
    "print(E.evalf(10))"
   ]
  },
  {
   "cell_type": "markdown",
   "id": "65462ee8",
   "metadata": {},
   "source": [
    "### Número racionales y precisión\n",
    "¿Es importante dicha precisión?"
   ]
  },
  {
   "cell_type": "code",
   "execution_count": 56,
   "id": "aa8808b6",
   "metadata": {},
   "outputs": [
    {
     "name": "stdout",
     "output_type": "stream",
     "text": [
      "3/7\n",
      "0.42857142857142855\n",
      "0.42857142857142854764\n",
      "0.42857142857142854763807804374664556235074996948242\n",
      "0.42857142857142857142857142857142857142857142857143\n"
     ]
    }
   ],
   "source": [
    "# La diferencia entre otros tipos de representaciones \n",
    "\n",
    "import numpy as np\n",
    "q = sp.Rational(3,7)\n",
    "pprint(q) # \n",
    "\n",
    "print(3/7)\n",
    "print(np.longfloat(3/7))\n",
    "print(\"%.50f\"%np.longfloat(3/7))\n",
    "print(q.evalf(50))\n",
    "# ¿Cuál es el correcto?"
   ]
  },
  {
   "cell_type": "code",
   "execution_count": 76,
   "id": "2322cc76",
   "metadata": {},
   "outputs": [
    {
     "name": "stdout",
     "output_type": "stream",
     "text": [
      "1.2246467991473532e-16\n",
      "0\n",
      "--------------------\n",
      "1.34639685153848276399912720080465078353881835937500\n",
      "3⋅π\n",
      "───\n",
      " 7 \n",
      "1.3463968515384828164839900214055012360845011711608\n"
     ]
    }
   ],
   "source": [
    "# E internamente qué ocurre cuando operamos... \n",
    "import math\n",
    "\n",
    "# CASO A\n",
    "print(math.sin(math.pi)) # no no no... es 0!\n",
    "print(sp.sin(sp.pi)) #ok!\n",
    "\n",
    "print(\"--\"*10)\n",
    "\n",
    "# CASO B\n",
    "print(\"%.50f\"% (np.longfloat(3/7)*math.pi)) # no no no... es 0!\n",
    "expr = Rational(3,7)*sp.pi\n",
    "pprint(expr)\n",
    "print(expr.evalf(50))"
   ]
  },
  {
   "cell_type": "code",
   "execution_count": 82,
   "id": "be5d633e",
   "metadata": {},
   "outputs": [
    {
     "name": "stdout",
     "output_type": "stream",
     "text": [
      "0.7071067811865475\n",
      "----------\n",
      "sqrt(2)/2\n"
     ]
    }
   ],
   "source": [
    "# Precisión y valor exacto\n",
    "a = math.sin(math.pi/4)\n",
    "print(a)\n",
    "print(\"-\"*10)\n",
    "b = sin(pi/4) \n",
    "print(b)"
   ]
  },
  {
   "cell_type": "markdown",
   "id": "9431f277",
   "metadata": {},
   "source": [
    "### a nivel de rendimiento tiene un mayor coste el cálculo simbólico... tradeoff"
   ]
  },
  {
   "cell_type": "code",
   "execution_count": 93,
   "id": "ec00e986",
   "metadata": {},
   "outputs": [
    {
     "name": "stdout",
     "output_type": "stream",
     "text": [
      "0.70710678118654746171500846685376018285751342773438\n",
      "CPU times: user 93 µs, sys: 15 µs, total: 108 µs\n",
      "Wall time: 113 µs\n"
     ]
    }
   ],
   "source": [
    "%%time\n",
    "a = math.sin(math.pi/4)\n",
    "print(\"%.50f\"%a)"
   ]
  },
  {
   "cell_type": "code",
   "execution_count": 95,
   "id": "249e992f",
   "metadata": {},
   "outputs": [
    {
     "name": "stdout",
     "output_type": "stream",
     "text": [
      "0.70710678118654752440084436210484903928483593768847\n",
      "CPU times: user 414 µs, sys: 67 µs, total: 481 µs\n",
      "Wall time: 457 µs\n"
     ]
    }
   ],
   "source": [
    "%%time\n",
    "b = sin(pi/4) \n",
    "print(b.evalf(50))"
   ]
  },
  {
   "cell_type": "markdown",
   "id": "bb393652",
   "metadata": {},
   "source": [
    "### Es una cuestión de precisión!"
   ]
  },
  {
   "cell_type": "markdown",
   "id": "327a5eb4",
   "metadata": {},
   "source": [
    "## Motivational examples\n",
    "- Rocklin, M. *Symbolic Statistics with Sympy*     https://www.researchgate.net/publication/260585491_Symbolic_Statistics_with_SymPy\n",
    "        "
   ]
  },
  {
   "cell_type": "code",
   "execution_count": 111,
   "id": "90fe3b37",
   "metadata": {},
   "outputs": [
    {
     "data": {
      "text/html": [
       "\n",
       "        <iframe\n",
       "            width=\"600\"\n",
       "            height=\"300\"\n",
       "            src=\"https://www.youtube.com/embed/krzC92hZ8pA\"\n",
       "            frameborder=\"0\"\n",
       "            allowfullscreen\n",
       "        ></iframe>\n",
       "        "
      ],
      "text/plain": [
       "<IPython.lib.display.YouTubeVideo at 0x110f43da0>"
      ]
     },
     "execution_count": 111,
     "metadata": {},
     "output_type": "execute_result"
    }
   ],
   "source": [
    "from IPython.display import Audio,Image, YouTubeVideo\n",
    "YouTubeVideo(id='krzC92hZ8pA',width=600,height=300)"
   ]
  },
  {
   "cell_type": "code",
   "execution_count": 129,
   "id": "c0d8e19b",
   "metadata": {},
   "outputs": [],
   "source": [
    "# En el artículo tenéis un código \n",
    "# Inicialización númerica\n",
    "x0  = 0\n",
    "y0 = 0\n",
    "yf = -30 # target is 30 meters below g = -10 # gravitational constant\n",
    "v = 30 # m/s\n",
    "g = -10\n",
    "theta = pi/4"
   ]
  },
  {
   "cell_type": "code",
   "execution_count": 41,
   "id": "d032d2ce",
   "metadata": {},
   "outputs": [],
   "source": [
    "# Código del artículo\n",
    "# Inicialización simbólica\n",
    "x0 = Symbol(\"x_0\")\n",
    "y0 = Symbol(\"y_0\")\n",
    "yf = Symbol(\"y_f\")\n",
    "g = Symbol(\"g1\")\n",
    "v = Symbol(\"v\")\n",
    "theta = Symbol(\"theta\")"
   ]
  },
  {
   "cell_type": "code",
   "execution_count": 42,
   "id": "d69e09e5",
   "metadata": {},
   "outputs": [
    {
     "data": {
      "text/latex": [
       "$\\displaystyle v \\left(g_{1} t^{2} + t v \\sin{\\left(\\theta \\right)} + y_{0} - y_{f}\\right) \\cos{\\left(\\theta \\right)} + x_{0}$"
      ],
      "text/plain": [
       "v*(g1*t**2 + t*v*sin(theta) + y_0 - y_f)*cos(theta) + x_0"
      ]
     },
     "execution_count": 42,
     "metadata": {},
     "output_type": "execute_result"
    }
   ],
   "source": [
    "# Código del artículo\n",
    "# Computo\n",
    "t = Symbol(\"t\")# En función de time\n",
    "x = x0 + v*cos(theta)*t\n",
    "y = y0 + v*sin(theta)*t + g*t**2\n",
    "impact_time = sympify(y - yf, t)\n",
    "xf = x0 + v*cos(theta)*impact_time\n",
    "xf.evalf() "
   ]
  },
  {
   "cell_type": "code",
   "execution_count": 47,
   "id": "94ab5a65",
   "metadata": {},
   "outputs": [
    {
     "data": {
      "image/png": "[encoded data removed]",
      "text/plain": [
       "<Figure size 432x288 with 1 Axes>"
      ]
     },
     "metadata": {
      "needs_background": "light"
     },
     "output_type": "display_data"
    },
    {
     "data": {
      "text/plain": [
       "<sympy.plotting.plot.Plot at 0x1199ae400>"
      ]
     },
     "execution_count": 47,
     "metadata": {},
     "output_type": "execute_result"
    }
   ],
   "source": [
    "xf = xf.subs({x0:0, y0:0, yf:-30, v:30, g:-10, theta: pi/4})\n",
    "sp.plot(xf,(t,-10,10))"
   ]
  },
  {
   "cell_type": "markdown",
   "id": "6f85ea73",
   "metadata": {},
   "source": [
    "## Tipos de variables\n",
    "- Variables\n",
    "- Constantes\n",
    "- Racionales"
   ]
  },
  {
   "cell_type": "markdown",
   "id": "bd950863",
   "metadata": {},
   "source": [
    "### Funciones Trigonométricas\n",
    "https://docs.sympy.org/latest/modules/functions/elementary.html#sympy-functions-elementary-trigonometric"
   ]
  },
  {
   "cell_type": "code",
   "execution_count": 137,
   "id": "2aa1c969",
   "metadata": {},
   "outputs": [
    {
     "data": {
      "image/png": "[encoded data removed]",
      "text/latex": [
       "$\\displaystyle \\sqrt{\\frac{1}{2} - \\frac{\\sqrt{2}}{4}}$"
      ],
      "text/plain": [
       "    ________\n",
       "   ╱ 1   √2 \n",
       "  ╱  ─ - ── \n",
       "╲╱   2   4  "
      ]
     },
     "execution_count": 137,
     "metadata": {},
     "output_type": "execute_result"
    }
   ],
   "source": [
    "sin(pi/8)"
   ]
  },
  {
   "cell_type": "code",
   "execution_count": 143,
   "id": "2fdef9ef",
   "metadata": {},
   "outputs": [
    {
     "data": {
      "image/png": "[encoded data removed]",
      "text/latex": [
       "$\\displaystyle 0$"
      ],
      "text/plain": [
       "0"
      ]
     },
     "execution_count": 143,
     "metadata": {},
     "output_type": "execute_result"
    }
   ],
   "source": [
    "# unnormalized sinc function\n",
    "sinc(oo)"
   ]
  },
  {
   "cell_type": "markdown",
   "id": "adc4c54d",
   "metadata": {},
   "source": [
    "### Funciones misceláneas \n",
    "https://docs.sympy.org/latest/modules/functions/elementary.html#sympy-functions-elementary-miscellaneous"
   ]
  },
  {
   "cell_type": "code",
   "execution_count": 145,
   "id": "7c57094c",
   "metadata": {},
   "outputs": [
    {
     "data": {
      "image/png": "[encoded data removed]",
      "text/latex": [
       "$\\displaystyle \\infty$"
      ],
      "text/plain": [
       "∞"
      ]
     },
     "execution_count": 145,
     "metadata": {},
     "output_type": "execute_result"
    }
   ],
   "source": [
    "Max(9,oo)"
   ]
  },
  {
   "cell_type": "code",
   "execution_count": 152,
   "id": "51dd6fa8",
   "metadata": {},
   "outputs": [
    {
     "data": {
      "image/png": "[encoded data removed]",
      "text/latex": [
       "$\\displaystyle e$"
      ],
      "text/plain": [
       "ℯ"
      ]
     },
     "execution_count": 152,
     "metadata": {},
     "output_type": "execute_result"
    }
   ],
   "source": [
    "Min(pi,E)"
   ]
  },
  {
   "cell_type": "code",
   "execution_count": 153,
   "id": "efcc7d88",
   "metadata": {},
   "outputs": [
    {
     "data": {
      "image/png": "[encoded data removed]",
      "text/latex": [
       "$\\displaystyle \\sqrt[3]{\\pi}$"
      ],
      "text/plain": [
       "3 ___\n",
       "╲╱ π "
      ]
     },
     "execution_count": 153,
     "metadata": {},
     "output_type": "execute_result"
    }
   ],
   "source": [
    "root(pi,3)"
   ]
  },
  {
   "cell_type": "code",
   "execution_count": 159,
   "id": "5bc05a29",
   "metadata": {},
   "outputs": [
    {
     "data": {
      "image/png": "[encoded data removed]",
      "text/latex": [
       "$\\displaystyle \\pi$"
      ],
      "text/plain": [
       "π"
      ]
     },
     "execution_count": 159,
     "metadata": {},
     "output_type": "execute_result"
    }
   ],
   "source": [
    "sqrt(pi**2)"
   ]
  },
  {
   "cell_type": "markdown",
   "id": "579cd58f",
   "metadata": {},
   "source": [
    "### Funciones con variables !"
   ]
  },
  {
   "cell_type": "code",
   "execution_count": 212,
   "id": "72d18d1f",
   "metadata": {},
   "outputs": [
    {
     "name": "stdout",
     "output_type": "stream",
     "text": [
      "   ⎛   2⎞\n",
      "cos⎝π⋅x ⎠\n"
     ]
    },
    {
     "data": {
      "image/png": "[encoded data removed]",
      "text/latex": [
       "$\\displaystyle -1$"
      ],
      "text/plain": [
       "-1"
      ]
     },
     "execution_count": 212,
     "metadata": {},
     "output_type": "execute_result"
    }
   ],
   "source": [
    "x = symbols(\"x\")\n",
    "expr = cos(pi*x**2)\n",
    "pprint(expr)\n",
    "\n",
    "## sustituciones\n",
    "expr.subs(x,3)"
   ]
  },
  {
   "cell_type": "markdown",
   "id": "1bdd20da",
   "metadata": {},
   "source": [
    "### Funciones lambda"
   ]
  },
  {
   "cell_type": "code",
   "execution_count": 166,
   "id": "396aa3ca",
   "metadata": {},
   "outputs": [
    {
     "name": "stdout",
     "output_type": "stream",
     "text": [
      "     3       \n",
      "x ↦ x ⋅sin(x)\n"
     ]
    }
   ],
   "source": [
    "f = Lambda(x,sin(x)*x**3)\n",
    "pprint(f)"
   ]
  },
  {
   "cell_type": "code",
   "execution_count": 167,
   "id": "91d19fb2",
   "metadata": {},
   "outputs": [
    {
     "data": {
      "image/png": "[encoded data removed]",
      "text/latex": [
       "$\\displaystyle 512 \\sin{\\left(8 \\right)}$"
      ],
      "text/plain": [
       "512⋅sin(8)"
      ]
     },
     "execution_count": 167,
     "metadata": {},
     "output_type": "execute_result"
    }
   ],
   "source": [
    "f(8)"
   ]
  },
  {
   "cell_type": "code",
   "execution_count": 168,
   "id": "1c43661c",
   "metadata": {},
   "outputs": [
    {
     "data": {
      "image/png": "[encoded data removed]",
      "text/latex": [
       "$\\displaystyle -544.02111088937$"
      ],
      "text/plain": [
       "-544.021110889370"
      ]
     },
     "execution_count": 168,
     "metadata": {},
     "output_type": "execute_result"
    }
   ],
   "source": [
    "f(10).evalf()"
   ]
  },
  {
   "cell_type": "markdown",
   "id": "5a1f6568",
   "metadata": {},
   "source": [
    "## Simplificación, optimización y expansión de expresiones"
   ]
  },
  {
   "cell_type": "code",
   "execution_count": 178,
   "id": "5d9a38fa",
   "metadata": {},
   "outputs": [
    {
     "data": {
      "image/png": "[encoded data removed]",
      "text/latex": [
       "$\\displaystyle x^{2} \\left(2 x + 3\\right) + 4 x^{2} + 1$"
      ],
      "text/plain": [
       " 2                2    \n",
       "x ⋅(2⋅x + 3) + 4⋅x  + 1"
      ]
     },
     "execution_count": 178,
     "metadata": {},
     "output_type": "execute_result"
    }
   ],
   "source": [
    "x = symbols(\"x\")\n",
    "expr = 1+(2*x+3)*x**2+4*x**2\n",
    "expr"
   ]
  },
  {
   "cell_type": "code",
   "execution_count": 179,
   "id": "f300cc08",
   "metadata": {},
   "outputs": [
    {
     "data": {
      "image/png": "[encoded data removed]",
      "text/latex": [
       "$\\displaystyle 2 x^{3} + 7 x^{2} + 1$"
      ],
      "text/plain": [
       "   3      2    \n",
       "2⋅x  + 7⋅x  + 1"
      ]
     },
     "execution_count": 179,
     "metadata": {},
     "output_type": "execute_result"
    }
   ],
   "source": [
    "simplify(expr) # Simplificación"
   ]
  },
  {
   "cell_type": "code",
   "execution_count": 180,
   "id": "e23f2688",
   "metadata": {},
   "outputs": [
    {
     "data": {
      "image/png": "[encoded data removed]",
      "text/latex": [
       "$\\displaystyle 2 \\sin{\\left(x \\right)} \\cos{\\left(x \\right)} \\tan{\\left(x \\right)}$"
      ],
      "text/plain": [
       "2⋅sin(x)⋅cos(x)⋅tan(x)"
      ]
     },
     "execution_count": 180,
     "metadata": {},
     "output_type": "execute_result"
    }
   ],
   "source": [
    "expr = 2*cos(x)*sin(x)*tan(x)\n",
    "expr"
   ]
  },
  {
   "cell_type": "code",
   "execution_count": 182,
   "id": "8ea73fc1",
   "metadata": {},
   "outputs": [
    {
     "data": {
      "image/png": "[encoded data removed]",
      "text/latex": [
       "$\\displaystyle 2 \\sin^{2}{\\left(x \\right)}$"
      ],
      "text/plain": [
       "     2   \n",
       "2⋅sin (x)"
      ]
     },
     "execution_count": 182,
     "metadata": {},
     "output_type": "execute_result"
    }
   ],
   "source": [
    "simplify(expr) # Simplificación para optimizar"
   ]
  },
  {
   "cell_type": "code",
   "execution_count": 183,
   "id": "86ca0a12",
   "metadata": {},
   "outputs": [
    {
     "data": {
      "image/png": "[encoded data removed]",
      "text/latex": [
       "$\\displaystyle \\left(x + 1\\right) \\left(x + 2\\right)$"
      ],
      "text/plain": [
       "(x + 1)⋅(x + 2)"
      ]
     },
     "execution_count": 183,
     "metadata": {},
     "output_type": "execute_result"
    }
   ],
   "source": [
    "expr= (x+1)*(x+2)\n",
    "expr"
   ]
  },
  {
   "cell_type": "code",
   "execution_count": 186,
   "id": "ce88db22",
   "metadata": {},
   "outputs": [
    {
     "data": {
      "image/png": "[encoded data removed]",
      "text/latex": [
       "$\\displaystyle x^{2} + 3 x + 2$"
      ],
      "text/plain": [
       " 2          \n",
       "x  + 3⋅x + 2"
      ]
     },
     "execution_count": 186,
     "metadata": {},
     "output_type": "execute_result"
    }
   ],
   "source": [
    "expand(expr) # Expansión "
   ]
  },
  {
   "cell_type": "code",
   "execution_count": 188,
   "id": "e540baf3",
   "metadata": {},
   "outputs": [],
   "source": [
    "# Podemos expandir/agrupar en función de una variable"
   ]
  },
  {
   "cell_type": "code",
   "execution_count": 191,
   "id": "509bcf87",
   "metadata": {},
   "outputs": [
    {
     "data": {
      "image/png": "[encoded data removed]",
      "text/latex": [
       "$\\displaystyle x y + x + y z + z$"
      ],
      "text/plain": [
       "x⋅y + x + y⋅z + z"
      ]
     },
     "execution_count": 191,
     "metadata": {},
     "output_type": "execute_result"
    }
   ],
   "source": [
    "x,y,z = symbols(\"x y z\")\n",
    "expr = x+x*y+z*y+z\n",
    "expr"
   ]
  },
  {
   "cell_type": "code",
   "execution_count": 192,
   "id": "1f1707c0",
   "metadata": {},
   "outputs": [
    {
     "data": {
      "image/png": "[encoded data removed]",
      "text/latex": [
       "$\\displaystyle x \\left(y + 1\\right) + y z + z$"
      ],
      "text/plain": [
       "x⋅(y + 1) + y⋅z + z"
      ]
     },
     "execution_count": 192,
     "metadata": {},
     "output_type": "execute_result"
    }
   ],
   "source": [
    "expr.collect(x)"
   ]
  },
  {
   "cell_type": "code",
   "execution_count": 193,
   "id": "1edb3bae",
   "metadata": {},
   "outputs": [
    {
     "data": {
      "image/png": "[encoded data removed]",
      "text/latex": [
       "$\\displaystyle x + y \\left(x + z\\right) + z$"
      ],
      "text/plain": [
       "x + y⋅(x + z) + z"
      ]
     },
     "execution_count": 193,
     "metadata": {},
     "output_type": "execute_result"
    }
   ],
   "source": [
    "expr.collect(y)"
   ]
  },
  {
   "cell_type": "code",
   "execution_count": 196,
   "id": "82292036",
   "metadata": {},
   "outputs": [
    {
     "data": {
      "image/png": "[encoded data removed]",
      "text/latex": [
       "$\\displaystyle 3 x + \\frac{1}{x^{2}}$"
      ],
      "text/plain": [
       "      1 \n",
       "3⋅x + ──\n",
       "       2\n",
       "      x "
      ]
     },
     "execution_count": 196,
     "metadata": {},
     "output_type": "execute_result"
    }
   ],
   "source": [
    "expr = 1/x**2+3*x\n",
    "expr"
   ]
  },
  {
   "cell_type": "code",
   "execution_count": 197,
   "id": "0dc7f8b1",
   "metadata": {},
   "outputs": [
    {
     "data": {
      "image/png": "[encoded data removed]",
      "text/latex": [
       "$\\displaystyle 3 x + \\frac{1}{x^{2}}$"
      ],
      "text/plain": [
       "      1 \n",
       "3⋅x + ──\n",
       "       2\n",
       "      x "
      ]
     },
     "execution_count": 197,
     "metadata": {},
     "output_type": "execute_result"
    }
   ],
   "source": [
    "apart(expr,x)"
   ]
  },
  {
   "cell_type": "code",
   "execution_count": 198,
   "id": "91a612f3",
   "metadata": {},
   "outputs": [
    {
     "data": {
      "image/png": "[encoded data removed]",
      "text/latex": [
       "$\\displaystyle \\frac{3 x^{3} + 1}{x^{2}}$"
      ],
      "text/plain": [
       "   3    \n",
       "3⋅x  + 1\n",
       "────────\n",
       "    2   \n",
       "   x    "
      ]
     },
     "execution_count": 198,
     "metadata": {},
     "output_type": "execute_result"
    }
   ],
   "source": [
    "together(expr)"
   ]
  },
  {
   "cell_type": "code",
   "execution_count": 201,
   "id": "75ed6b2e",
   "metadata": {},
   "outputs": [
    {
     "name": "stdout",
     "output_type": "stream",
     "text": [
      "      1\n",
      "3⋅x + ─\n",
      "      x\n"
     ]
    },
    {
     "data": {
      "image/png": "[encoded data removed]",
      "text/latex": [
       "$\\displaystyle \\frac{3 x^{2} + 1}{x}$"
      ],
      "text/plain": [
       "   2    \n",
       "3⋅x  + 1\n",
       "────────\n",
       "   x    "
      ]
     },
     "execution_count": 201,
     "metadata": {},
     "output_type": "execute_result"
    }
   ],
   "source": [
    "expr = x/x**2+3*x\n",
    "pprint(expr)\n",
    "cancel(x/x**2+3*x)"
   ]
  },
  {
   "cell_type": "markdown",
   "id": "72388fae",
   "metadata": {},
   "source": [
    "## Evaluación númerica"
   ]
  },
  {
   "cell_type": "code",
   "execution_count": 203,
   "id": "ea195a1e",
   "metadata": {},
   "outputs": [
    {
     "data": {
      "image/png": "[encoded data removed]",
      "text/latex": [
       "$\\displaystyle 3.141592654$"
      ],
      "text/plain": [
       "3.141592654"
      ]
     },
     "execution_count": 203,
     "metadata": {},
     "output_type": "execute_result"
    }
   ],
   "source": [
    "pi.evalf(10)"
   ]
  },
  {
   "cell_type": "code",
   "execution_count": 204,
   "id": "c29b4901",
   "metadata": {},
   "outputs": [
    {
     "data": {
      "image/png": "[encoded data removed]",
      "text/latex": [
       "$\\displaystyle 3.14159265358979$"
      ],
      "text/plain": [
       "3.14159265358979"
      ]
     },
     "execution_count": 204,
     "metadata": {},
     "output_type": "execute_result"
    }
   ],
   "source": [
    "N(pi)"
   ]
  },
  {
   "cell_type": "code",
   "execution_count": 220,
   "id": "fdc4da39",
   "metadata": {},
   "outputs": [
    {
     "data": {
      "image/png": "[encoded data removed]",
      "text/latex": [
       "$\\displaystyle 2 \\sin{\\left(x \\right)} \\cos{\\left(x \\right)} \\tan{\\left(x \\right)}$"
      ],
      "text/plain": [
       "2⋅sin(x)⋅cos(x)⋅tan(x)"
      ]
     },
     "execution_count": 220,
     "metadata": {},
     "output_type": "execute_result"
    }
   ],
   "source": [
    "expr = 2*cos(x)*sin(x)*tan(x)\n",
    "expr"
   ]
  },
  {
   "cell_type": "code",
   "execution_count": 217,
   "id": "79c52b34",
   "metadata": {},
   "outputs": [
    {
     "name": "stdout",
     "output_type": "stream",
     "text": [
      "[0, 2*sin(1)*cos(1)*tan(1), 2*sin(2)*cos(2)*tan(2), 2*sin(3)*cos(3)*tan(3), 2*sin(4)*cos(4)*tan(4), 2*sin(5)*cos(5)*tan(5), 2*sin(6)*cos(6)*tan(6), 2*sin(7)*cos(7)*tan(7), 2*sin(8)*cos(8)*tan(8), 2*sin(9)*cos(9)*tan(9)]\n"
     ]
    }
   ],
   "source": [
    "values = [expr.subs(x,value) for value in range(10)]\n",
    "print(values)"
   ]
  },
  {
   "cell_type": "code",
   "execution_count": 222,
   "id": "e806e42c",
   "metadata": {},
   "outputs": [
    {
     "name": "stdout",
     "output_type": "stream",
     "text": [
      "[0, 1.416, 1.654, 0.03983, 1.146, 1.839, 0.1561, 0.8633, 1.958, 0.3397]\n"
     ]
    }
   ],
   "source": [
    "values = [expr.subs(x,value).evalf(4) for value in range(10)]\n",
    "print(values)"
   ]
  },
  {
   "cell_type": "code",
   "execution_count": 223,
   "id": "25f39da9",
   "metadata": {},
   "outputs": [
    {
     "name": "stdout",
     "output_type": "stream",
     "text": [
      "[0.0, 1.4161468365471424, 1.653643620863612, 0.03982971334963398, 1.1455000338086134, 1.8390715290764523, 0.1561460412675079, 0.8632627817921664, 1.9576594803233844, 0.3396832917559199]\n"
     ]
    }
   ],
   "source": [
    "## Podemos transformar expresiones en funciones que computen numericamente\n",
    "# https://docs.sympy.org/latest/modules/utilities/lambdify.html\n",
    "    \n",
    "expr_f = lambdify(x,expr)\n",
    "values = [expr_f(value) for value in range(10)]\n",
    "print(values)"
   ]
  },
  {
   "cell_type": "markdown",
   "id": "b1a87ace",
   "metadata": {},
   "source": [
    "## Cálculo operacional\n",
    "### Derivadas"
   ]
  },
  {
   "cell_type": "code",
   "execution_count": 228,
   "id": "3da35bb8",
   "metadata": {},
   "outputs": [
    {
     "data": {
      "image/png": "[encoded data removed]",
      "text/latex": [
       "$\\displaystyle \\left(x + 1\\right) \\left(x + 2\\right)$"
      ],
      "text/plain": [
       "(x + 1)⋅(x + 2)"
      ]
     },
     "execution_count": 228,
     "metadata": {},
     "output_type": "execute_result"
    }
   ],
   "source": [
    "expr= (x+1)*(x+2)\n",
    "expr"
   ]
  },
  {
   "cell_type": "code",
   "execution_count": 229,
   "id": "a6d93ede",
   "metadata": {},
   "outputs": [
    {
     "data": {
      "image/png": "[encoded data removed]",
      "text/latex": [
       "$\\displaystyle 2 x + 3$"
      ],
      "text/plain": [
       "2⋅x + 3"
      ]
     },
     "execution_count": 229,
     "metadata": {},
     "output_type": "execute_result"
    }
   ],
   "source": [
    "diff(expr)"
   ]
  },
  {
   "cell_type": "code",
   "execution_count": 226,
   "id": "a8a672c2",
   "metadata": {},
   "outputs": [
    {
     "data": {
      "image/png": "[encoded data removed]",
      "text/latex": [
       "$\\displaystyle \\cos{\\left(x \\right)}$"
      ],
      "text/plain": [
       "cos(x)"
      ]
     },
     "execution_count": 226,
     "metadata": {},
     "output_type": "execute_result"
    }
   ],
   "source": [
    "expr = diff(sin(x),x)\n",
    "expr"
   ]
  },
  {
   "cell_type": "code",
   "execution_count": 227,
   "id": "48649db6",
   "metadata": {},
   "outputs": [
    {
     "data": {
      "image/png": "[encoded data removed]",
      "text/latex": [
       "$\\displaystyle - \\sin{\\left(x \\right)}$"
      ],
      "text/plain": [
       "-sin(x)"
      ]
     },
     "execution_count": 227,
     "metadata": {},
     "output_type": "execute_result"
    }
   ],
   "source": [
    "expr = diff(sin(x),x,x)\n",
    "expr"
   ]
  },
  {
   "cell_type": "markdown",
   "id": "5f410c6d",
   "metadata": {},
   "source": [
    "### Integrales"
   ]
  },
  {
   "cell_type": "code",
   "execution_count": 230,
   "id": "c668fe0b",
   "metadata": {},
   "outputs": [
    {
     "data": {
      "image/png": "[encoded data removed]",
      "text/latex": [
       "$\\displaystyle \\left(x + 1\\right) \\left(x + 2\\right)$"
      ],
      "text/plain": [
       "(x + 1)⋅(x + 2)"
      ]
     },
     "execution_count": 230,
     "metadata": {},
     "output_type": "execute_result"
    }
   ],
   "source": [
    "expr= (x+1)*(x+2)\n",
    "expr"
   ]
  },
  {
   "cell_type": "code",
   "execution_count": 231,
   "id": "c3cf2a3b",
   "metadata": {},
   "outputs": [
    {
     "data": {
      "image/png": "[encoded data removed]",
      "text/latex": [
       "$\\displaystyle \\frac{x^{3}}{3} + \\frac{3 x^{2}}{2} + 2 x$"
      ],
      "text/plain": [
       " 3      2      \n",
       "x    3⋅x       \n",
       "── + ──── + 2⋅x\n",
       "3     2        "
      ]
     },
     "execution_count": 231,
     "metadata": {},
     "output_type": "execute_result"
    }
   ],
   "source": [
    "integrate(expr)"
   ]
  },
  {
   "cell_type": "code",
   "execution_count": 232,
   "id": "8925db86",
   "metadata": {},
   "outputs": [
    {
     "data": {
      "image/png": "[encoded data removed]",
      "text/latex": [
       "$\\displaystyle - \\cos{\\left(x \\right)}$"
      ],
      "text/plain": [
       "-cos(x)"
      ]
     },
     "execution_count": 232,
     "metadata": {},
     "output_type": "execute_result"
    }
   ],
   "source": [
    "expr = integrate(sin(x),x)\n",
    "expr"
   ]
  },
  {
   "cell_type": "code",
   "execution_count": 233,
   "id": "521b5147",
   "metadata": {},
   "outputs": [
    {
     "data": {
      "image/png": "[encoded data removed]",
      "text/latex": [
       "$\\displaystyle \\left\\langle -1 - \\cos{\\left(4 \\right)}, 1 - \\cos{\\left(4 \\right)}\\right\\rangle$"
      ],
      "text/plain": [
       "<-1 - cos(4), 1 - cos(4)>"
      ]
     },
     "execution_count": 233,
     "metadata": {},
     "output_type": "execute_result"
    }
   ],
   "source": [
    "expr = integrate(sin(x),(x,-oo,4))\n",
    "expr"
   ]
  },
  {
   "cell_type": "code",
   "execution_count": 234,
   "id": "763def54",
   "metadata": {},
   "outputs": [
    {
     "data": {
      "image/png": "[encoded data removed]",
      "text/latex": [
       "$\\displaystyle 10$"
      ],
      "text/plain": [
       "10"
      ]
     },
     "execution_count": 234,
     "metadata": {},
     "output_type": "execute_result"
    }
   ],
   "source": [
    "expr = (x+y)\n",
    "integrate(expr,(x,0,4),(y,0,1))"
   ]
  },
  {
   "cell_type": "markdown",
   "id": "2ba72732",
   "metadata": {},
   "source": [
    "### Límites"
   ]
  },
  {
   "cell_type": "code",
   "execution_count": 236,
   "id": "16b521e8",
   "metadata": {},
   "outputs": [
    {
     "name": "stdout",
     "output_type": "stream",
     "text": [
      "sin(x)\n",
      "──────\n",
      "  x   \n"
     ]
    },
    {
     "data": {
      "image/png": "[encoded data removed]",
      "text/latex": [
       "$\\displaystyle 1$"
      ],
      "text/plain": [
       "1"
      ]
     },
     "execution_count": 236,
     "metadata": {},
     "output_type": "execute_result"
    }
   ],
   "source": [
    "expr = sin(x)/x\n",
    "pprint(expr)\n",
    "limit(expr,x,0) "
   ]
  },
  {
   "cell_type": "code",
   "execution_count": 237,
   "id": "80c46935",
   "metadata": {},
   "outputs": [
    {
     "data": {
      "image/png": "[encoded data removed]",
      "text/latex": [
       "$\\displaystyle \\infty$"
      ],
      "text/plain": [
       "∞"
      ]
     },
     "execution_count": 237,
     "metadata": {},
     "output_type": "execute_result"
    }
   ],
   "source": [
    "expr = x\n",
    "limit(expr,x,oo) "
   ]
  },
  {
   "cell_type": "code",
   "execution_count": 240,
   "id": "fcf1ff4d",
   "metadata": {},
   "outputs": [
    {
     "data": {
      "image/png": "[encoded data removed]",
      "text/latex": [
       "$\\displaystyle \\frac{x - 1}{x^{2} - 1}$"
      ],
      "text/plain": [
       "x - 1 \n",
       "──────\n",
       " 2    \n",
       "x  - 1"
      ]
     },
     "execution_count": 240,
     "metadata": {},
     "output_type": "execute_result"
    }
   ],
   "source": [
    "expr = (x-1)/(x**2-1)\n",
    "expr"
   ]
  },
  {
   "cell_type": "code",
   "execution_count": 241,
   "id": "ef7a10ca",
   "metadata": {},
   "outputs": [
    {
     "data": {
      "image/png": "[encoded data removed]",
      "text/latex": [
       "$\\displaystyle 1$"
      ],
      "text/plain": [
       "1"
      ]
     },
     "execution_count": 241,
     "metadata": {},
     "output_type": "execute_result"
    }
   ],
   "source": [
    "limit(expr,x,0) "
   ]
  },
  {
   "cell_type": "code",
   "execution_count": 242,
   "id": "98d8ad1e",
   "metadata": {},
   "outputs": [],
   "source": [
    "# https://www.math-exercises.com/limits-derivatives-integrals/limit-of-a-function"
   ]
  },
  {
   "cell_type": "markdown",
   "id": "5bef052b",
   "metadata": {},
   "source": [
    "### Sumatorios y productos"
   ]
  },
  {
   "cell_type": "code",
   "execution_count": 246,
   "id": "5d3b04c0",
   "metadata": {},
   "outputs": [
    {
     "data": {
      "image/png": "[encoded data removed]",
      "text/latex": [
       "$\\displaystyle \\sum_{x=1}^{\\infty} \\frac{1}{x^{2}}$"
      ],
      "text/plain": [
       "  ∞     \n",
       " ____   \n",
       " ╲      \n",
       "  ╲   1 \n",
       "   ╲  ──\n",
       "   ╱   2\n",
       "  ╱   x \n",
       " ╱      \n",
       " ‾‾‾‾   \n",
       "x = 1   "
      ]
     },
     "execution_count": 246,
     "metadata": {},
     "output_type": "execute_result"
    }
   ],
   "source": [
    "expr = Sum(1/x**2,(x,1,oo))\n",
    "expr"
   ]
  },
  {
   "cell_type": "code",
   "execution_count": 247,
   "id": "e6556972",
   "metadata": {},
   "outputs": [
    {
     "data": {
      "image/png": "[encoded data removed]",
      "text/latex": [
       "$\\displaystyle \\frac{\\pi^{2}}{6}$"
      ],
      "text/plain": [
       " 2\n",
       "π \n",
       "──\n",
       "6 "
      ]
     },
     "execution_count": 247,
     "metadata": {},
     "output_type": "execute_result"
    }
   ],
   "source": [
    "expr.doit() # Evaluación"
   ]
  },
  {
   "cell_type": "code",
   "execution_count": 248,
   "id": "95234956",
   "metadata": {},
   "outputs": [
    {
     "data": {
      "image/png": "[encoded data removed]",
      "text/latex": [
       "$\\displaystyle \\prod_{x=1}^{10} x$"
      ],
      "text/plain": [
       "  10   \n",
       "─┬─┬─  \n",
       " │ │  x\n",
       " │ │   \n",
       "x = 1  "
      ]
     },
     "execution_count": 248,
     "metadata": {},
     "output_type": "execute_result"
    }
   ],
   "source": [
    "expr = Product(x,(x,1,10))\n",
    "expr"
   ]
  },
  {
   "cell_type": "code",
   "execution_count": 249,
   "id": "40f6f7a1",
   "metadata": {},
   "outputs": [
    {
     "data": {
      "image/png": "[encoded data removed]",
      "text/latex": [
       "$\\displaystyle 3628800$"
      ],
      "text/plain": [
       "3628800"
      ]
     },
     "execution_count": 249,
     "metadata": {},
     "output_type": "execute_result"
    }
   ],
   "source": [
    "expr.doit() # Evaluación"
   ]
  },
  {
   "cell_type": "markdown",
   "id": "2b5e8947",
   "metadata": {},
   "source": [
    "## Aleatoriedad y distribuciones\n",
    "https://docs.sympy.org/latest/modules/stats.html"
   ]
  },
  {
   "cell_type": "code",
   "execution_count": 254,
   "id": "782f733c",
   "metadata": {},
   "outputs": [],
   "source": [
    "import sympy.stats as st\n",
    "Z = st.Normal('Z', 0, 1) # Distribución normal, mean 0, std 1"
   ]
  },
  {
   "cell_type": "code",
   "execution_count": 255,
   "id": "4d4625c6",
   "metadata": {},
   "outputs": [
    {
     "data": {
      "image/png": "[encoded data removed]",
      "text/latex": [
       "$\\displaystyle 0.539827837277029$"
      ],
      "text/plain": [
       "0.539827837277029"
      ]
     },
     "execution_count": 255,
     "metadata": {},
     "output_type": "execute_result"
    }
   ],
   "source": [
    "st.P(Z<0.1) # Probabilidad "
   ]
  },
  {
   "cell_type": "code",
   "execution_count": 256,
   "id": "b89b9773",
   "metadata": {},
   "outputs": [],
   "source": [
    "Z2 = st.Normal('Z2', 1, 2)"
   ]
  },
  {
   "cell_type": "code",
   "execution_count": 257,
   "id": "8a474f92",
   "metadata": {},
   "outputs": [
    {
     "data": {
      "image/png": "[encoded data removed]",
      "text/latex": [
       "$\\displaystyle 1$"
      ],
      "text/plain": [
       "1"
      ]
     },
     "execution_count": 257,
     "metadata": {},
     "output_type": "execute_result"
    }
   ],
   "source": [
    "st.E(Z+Z2) # Esperanza"
   ]
  },
  {
   "cell_type": "code",
   "execution_count": 258,
   "id": "70af24ae",
   "metadata": {},
   "outputs": [
    {
     "data": {
      "image/png": "[encoded data removed]",
      "text/latex": [
       "$\\displaystyle 4$"
      ],
      "text/plain": [
       "4"
      ]
     },
     "execution_count": 258,
     "metadata": {},
     "output_type": "execute_result"
    }
   ],
   "source": [
    "st.variance(Z2) #Varianza"
   ]
  },
  {
   "cell_type": "code",
   "execution_count": 270,
   "id": "03073da2",
   "metadata": {},
   "outputs": [
    {
     "data": {
      "image/png": "[encoded data removed]",
      "text/latex": [
       "$\\displaystyle DiscreteUniformDistribution\\left(0, 1, 2, 3, 4\\right)$"
      ],
      "text/plain": [
       "DiscreteUniformDistribution(0, 1, 2, 3, 4)"
      ]
     },
     "execution_count": 270,
     "metadata": {},
     "output_type": "execute_result"
    }
   ],
   "source": [
    "Y = st.DiscreteUniform('Y', list(range(5)))\n",
    "st.density(Y)"
   ]
  },
  {
   "cell_type": "code",
   "execution_count": 268,
   "id": "2ad8e4f6",
   "metadata": {},
   "outputs": [
    {
     "data": {
      "image/png": "[encoded data removed]",
      "text/latex": [
       "$\\displaystyle \\frac{1}{5}$"
      ],
      "text/plain": [
       "1/5"
      ]
     },
     "execution_count": 268,
     "metadata": {},
     "output_type": "execute_result"
    }
   ],
   "source": [
    "st.P(Y<1)"
   ]
  },
  {
   "cell_type": "markdown",
   "id": "41231618",
   "metadata": {},
   "source": [
    "## Ploting "
   ]
  },
  {
   "cell_type": "code",
   "execution_count": 303,
   "id": "1ddbefae",
   "metadata": {},
   "outputs": [
    {
     "data": {
      "image/png": "[encoded data removed]",
      "text/latex": [
       "$\\displaystyle \\left(x + 1\\right) \\left(x + 2\\right)$"
      ],
      "text/plain": [
       "(x + 1)⋅(x + 2)"
      ]
     },
     "execution_count": 303,
     "metadata": {},
     "output_type": "execute_result"
    }
   ],
   "source": [
    "x = Symbol(\"x\")\n",
    "expr= (x+1)*(x+2)\n",
    "expr"
   ]
  },
  {
   "cell_type": "code",
   "execution_count": 305,
   "id": "763318a3",
   "metadata": {},
   "outputs": [
    {
     "data": {
      "image/png": "[encoded data removed]",
      "text/plain": [
       "<Figure size 432x288 with 1 Axes>"
      ]
     },
     "metadata": {
      "needs_background": "light"
     },
     "output_type": "display_data"
    },
    {
     "data": {
      "text/plain": [
       "<sympy.plotting.plot.Plot at 0x11bcaa438>"
      ]
     },
     "execution_count": 305,
     "metadata": {},
     "output_type": "execute_result"
    }
   ],
   "source": [
    "sp.plot(expr,(x,-10,10))"
   ]
  },
  {
   "cell_type": "code",
   "execution_count": 299,
   "id": "964e69be",
   "metadata": {},
   "outputs": [
    {
     "data": {
      "image/png": "[encoded data removed]",
      "text/plain": [
       "<Figure size 432x288 with 1 Axes>"
      ]
     },
     "metadata": {
      "needs_background": "light"
     },
     "output_type": "display_data"
    },
    {
     "data": {
      "text/plain": [
       "<sympy.plotting.plot.Plot at 0x119379278>"
      ]
     },
     "execution_count": 299,
     "metadata": {},
     "output_type": "execute_result"
    }
   ],
   "source": [
    "from sympy.plotting import plot_parametric\n",
    "x = cos(t)\n",
    "y = sin(t)\n",
    "plot_parametric(x, y, (t, 0, 2*pi))"
   ]
  },
  {
   "cell_type": "code",
   "execution_count": 300,
   "id": "1974359e",
   "metadata": {},
   "outputs": [
    {
     "data": {
      "image/png": "[encoded data removed]",
      "text/plain": [
       "<Figure size 432x288 with 1 Axes>"
      ]
     },
     "metadata": {
      "needs_background": "light"
     },
     "output_type": "display_data"
    },
    {
     "data": {
      "text/plain": [
       "<sympy.plotting.plot.Plot at 0x11b65fbe0>"
      ]
     },
     "execution_count": 300,
     "metadata": {},
     "output_type": "execute_result"
    }
   ],
   "source": [
    "from sympy.plotting import plot3d_parametric_line\n",
    "x = cos(t)\n",
    "y = sin(t)\n",
    "z = t\n",
    "\n",
    "plot3d_parametric_line(x, y, z, (t, 0, 6*math.pi))"
   ]
  },
  {
   "cell_type": "markdown",
   "id": "29a6da02",
   "metadata": {},
   "source": [
    "# <span style=\"color:blue\">Actividad</span>\n",
    "\n",
    "## A. Mice Problem\n",
    "\n",
    "Intenta en la celda siguiente obtener los valores de coordenadas de la serie del *Mice problem* definido en el siguiente enlace:\n",
    "https://mathworld.wolfram.com/MiceProblem.html\n",
    "\n",
    "```python\n",
    "[0.5, 0.6666666666666667, 1.0, 1.447213595499958, 2.0000000000000004, 2.655970555211364, 3.414213562373096, 4.274316085206517]\n",
    "````\n"
   ]
  },
  {
   "cell_type": "code",
   "execution_count": null,
   "id": "d99d00aa",
   "metadata": {},
   "outputs": [],
   "source": []
  },
  {
   "cell_type": "markdown",
   "id": "2ed29815",
   "metadata": {},
   "source": [
    "## B. Intersection Problem\n",
    "\n",
    "Calcula el punto de intersección de ambas funciones\n",
    "Nota: Sympy incluye geometría, pero no es necesario para este problema."
   ]
  },
  {
   "cell_type": "code",
   "execution_count": 11,
   "id": "2c1c53a2",
   "metadata": {},
   "outputs": [
    {
     "data": {
      "image/png": "[encoded data removed]",
      "text/plain": [
       "<Figure size 432x288 with 1 Axes>"
      ]
     },
     "metadata": {
      "needs_background": "light"
     },
     "output_type": "display_data"
    },
    {
     "name": "stdout",
     "output_type": "stream",
     "text": [
      "[1 - 2*LambertW(exp(1/2)/6)]\n"
     ]
    }
   ],
   "source": [
    "import sympy as sp\n",
    "\n",
    "x = sp.symbols('x')\n",
    "\n",
    "f_x = sp.E ** (x / 2)\n",
    "g_x = 3 - 3 * x\n",
    "\n",
    "p1 = sp.plot(f_x,show=False)\n",
    "p2 = sp.plot(g_x,show=False)\n",
    "\n",
    "p1.append(p2[0])\n",
    "p1.show()\n",
    "\n",
    "#Intersection point?"
   ]
  },
  {
   "cell_type": "markdown",
   "id": "a9db420d",
   "metadata": {},
   "source": [
    "## C. Pursuit Curve\n",
    "Vamos a calcular la curva de *persecución* entre dos objetos y a representarla como se adjunta a continuación.\n",
    "\n",
    "https://www.cfm.brown.edu/people/dobrush/am33/python/?/p2/pursuit.html\n",
    "\n",
    "**Nota**: solo C y f(y)\n",
    "\n",
    "<img src=\"images/resultado_sympy_C.png\" width=\"300px\"/>"
   ]
  },
  {
   "cell_type": "code",
   "execution_count": null,
   "id": "e1fab3ea",
   "metadata": {},
   "outputs": [],
   "source": [
    "import sympy as sp\n",
    "\n",
    "x0, n, x= sp.symbols(\"x0 n x\")\n",
    "\n",
    "#TODO"
   ]
  }
 ],
 "metadata": {
  "kernelspec": {
   "display_name": "Python 3",
   "language": "python",
   "name": "python3"
  },
  "language_info": {
   "codemirror_mode": {
    "name": "ipython",
    "version": 3
   },
   "file_extension": ".py",
   "mimetype": "text/x-python",
   "name": "python",
   "nbconvert_exporter": "python",
   "pygments_lexer": "ipython3",
   "version": "3.6.5"
  }
 },
 "nbformat": 4,
 "nbformat_minor": 5
}
